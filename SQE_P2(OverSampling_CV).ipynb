{
  "cells": [
    {
      "cell_type": "markdown",
      "metadata": {
        "id": "view-in-github",
        "colab_type": "text"
      },
      "source": [
        "<a href=\"https://colab.research.google.com/github/imnadiarasheed/Machine-Learning/blob/main/SQE_P2(OverSampling_CV).ipynb\" target=\"_parent\"><img src=\"https://colab.research.google.com/assets/colab-badge.svg\" alt=\"Open In Colab\"/></a>"
      ]
    },
    {
      "cell_type": "code",
      "execution_count": 343,
      "metadata": {
        "id": "uIcity3NQ1vQ"
      },
      "outputs": [],
      "source": [
        "import pandas as pd\n",
        "import numpy as np\n",
        "import matplotlib.pyplot as plt\n",
        "import seaborn as sns\n",
        "from sklearn.model_selection import train_test_split,cross_val_score,StratifiedKFold\n",
        "from sklearn.datasets import make_classification\n",
        "from sklearn.metrics import classification_report, confusion_matrix, accuracy_score\n",
        "from sklearn.feature_selection import VarianceThreshold\n",
        "from sklearn.feature_selection import SelectKBest, f_classif\n",
        "from sklearn.preprocessing import StandardScaler\n",
        "import statistics\n",
        "import missingno as msno\n",
        "from imblearn.over_sampling import RandomOverSampler\n",
        "from sklearn.ensemble import VotingClassifier"
      ]
    },
    {
      "cell_type": "code",
      "source": [
        "from google.colab import drive\n",
        "drive.mount('/content/drive')"
      ],
      "metadata": {
        "id": "pO7rvlMeO7K5",
        "colab": {
          "base_uri": "https://localhost:8080/"
        },
        "outputId": "72518a60-a4ae-44b4-eafa-20a2b50d0cfb"
      },
      "execution_count": null,
      "outputs": [
        {
          "output_type": "stream",
          "name": "stdout",
          "text": [
            "Mounted at /content/drive\n"
          ]
        }
      ]
    },
    {
      "cell_type": "code",
      "execution_count": 353,
      "metadata": {
        "id": "shA3AlFLRD4e",
        "colab": {
          "base_uri": "https://localhost:8080/",
          "height": 424
        },
        "outputId": "7c549edf-899f-4978-effa-59172ab6a92f"
      },
      "outputs": [
        {
          "output_type": "execute_result",
          "data": {
            "text/plain": [
              "     Pregnancies  Glucose  BloodPressure  SkinThickness  Insulin   BMI  \\\n",
              "0              6      148             72             35        0  33.6   \n",
              "1              1       85             66             29        0  26.6   \n",
              "2              8      183             64              0        0  23.3   \n",
              "3              1       89             66             23       94  28.1   \n",
              "4              0      137             40             35      168  43.1   \n",
              "..           ...      ...            ...            ...      ...   ...   \n",
              "763           10      101             76             48      180  32.9   \n",
              "764            2      122             70             27        0  36.8   \n",
              "765            5      121             72             23      112  26.2   \n",
              "766            1      126             60              0        0  30.1   \n",
              "767            1       93             70             31        0  30.4   \n",
              "\n",
              "     DiabetesPedigreeFunction  Age  Outcome  \n",
              "0                       0.627   50        1  \n",
              "1                       0.351   31        0  \n",
              "2                       0.672   32        1  \n",
              "3                       0.167   21        0  \n",
              "4                       2.288   33        1  \n",
              "..                        ...  ...      ...  \n",
              "763                     0.171   63        0  \n",
              "764                     0.340   27        0  \n",
              "765                     0.245   30        0  \n",
              "766                     0.349   47        1  \n",
              "767                     0.315   23        0  \n",
              "\n",
              "[768 rows x 9 columns]"
            ],
            "text/html": [
              "\n",
              "  <div id=\"df-63832e9b-f316-486c-805e-aac6c955a68e\">\n",
              "    <div class=\"colab-df-container\">\n",
              "      <div>\n",
              "<style scoped>\n",
              "    .dataframe tbody tr th:only-of-type {\n",
              "        vertical-align: middle;\n",
              "    }\n",
              "\n",
              "    .dataframe tbody tr th {\n",
              "        vertical-align: top;\n",
              "    }\n",
              "\n",
              "    .dataframe thead th {\n",
              "        text-align: right;\n",
              "    }\n",
              "</style>\n",
              "<table border=\"1\" class=\"dataframe\">\n",
              "  <thead>\n",
              "    <tr style=\"text-align: right;\">\n",
              "      <th></th>\n",
              "      <th>Pregnancies</th>\n",
              "      <th>Glucose</th>\n",
              "      <th>BloodPressure</th>\n",
              "      <th>SkinThickness</th>\n",
              "      <th>Insulin</th>\n",
              "      <th>BMI</th>\n",
              "      <th>DiabetesPedigreeFunction</th>\n",
              "      <th>Age</th>\n",
              "      <th>Outcome</th>\n",
              "    </tr>\n",
              "  </thead>\n",
              "  <tbody>\n",
              "    <tr>\n",
              "      <th>0</th>\n",
              "      <td>6</td>\n",
              "      <td>148</td>\n",
              "      <td>72</td>\n",
              "      <td>35</td>\n",
              "      <td>0</td>\n",
              "      <td>33.6</td>\n",
              "      <td>0.627</td>\n",
              "      <td>50</td>\n",
              "      <td>1</td>\n",
              "    </tr>\n",
              "    <tr>\n",
              "      <th>1</th>\n",
              "      <td>1</td>\n",
              "      <td>85</td>\n",
              "      <td>66</td>\n",
              "      <td>29</td>\n",
              "      <td>0</td>\n",
              "      <td>26.6</td>\n",
              "      <td>0.351</td>\n",
              "      <td>31</td>\n",
              "      <td>0</td>\n",
              "    </tr>\n",
              "    <tr>\n",
              "      <th>2</th>\n",
              "      <td>8</td>\n",
              "      <td>183</td>\n",
              "      <td>64</td>\n",
              "      <td>0</td>\n",
              "      <td>0</td>\n",
              "      <td>23.3</td>\n",
              "      <td>0.672</td>\n",
              "      <td>32</td>\n",
              "      <td>1</td>\n",
              "    </tr>\n",
              "    <tr>\n",
              "      <th>3</th>\n",
              "      <td>1</td>\n",
              "      <td>89</td>\n",
              "      <td>66</td>\n",
              "      <td>23</td>\n",
              "      <td>94</td>\n",
              "      <td>28.1</td>\n",
              "      <td>0.167</td>\n",
              "      <td>21</td>\n",
              "      <td>0</td>\n",
              "    </tr>\n",
              "    <tr>\n",
              "      <th>4</th>\n",
              "      <td>0</td>\n",
              "      <td>137</td>\n",
              "      <td>40</td>\n",
              "      <td>35</td>\n",
              "      <td>168</td>\n",
              "      <td>43.1</td>\n",
              "      <td>2.288</td>\n",
              "      <td>33</td>\n",
              "      <td>1</td>\n",
              "    </tr>\n",
              "    <tr>\n",
              "      <th>...</th>\n",
              "      <td>...</td>\n",
              "      <td>...</td>\n",
              "      <td>...</td>\n",
              "      <td>...</td>\n",
              "      <td>...</td>\n",
              "      <td>...</td>\n",
              "      <td>...</td>\n",
              "      <td>...</td>\n",
              "      <td>...</td>\n",
              "    </tr>\n",
              "    <tr>\n",
              "      <th>763</th>\n",
              "      <td>10</td>\n",
              "      <td>101</td>\n",
              "      <td>76</td>\n",
              "      <td>48</td>\n",
              "      <td>180</td>\n",
              "      <td>32.9</td>\n",
              "      <td>0.171</td>\n",
              "      <td>63</td>\n",
              "      <td>0</td>\n",
              "    </tr>\n",
              "    <tr>\n",
              "      <th>764</th>\n",
              "      <td>2</td>\n",
              "      <td>122</td>\n",
              "      <td>70</td>\n",
              "      <td>27</td>\n",
              "      <td>0</td>\n",
              "      <td>36.8</td>\n",
              "      <td>0.340</td>\n",
              "      <td>27</td>\n",
              "      <td>0</td>\n",
              "    </tr>\n",
              "    <tr>\n",
              "      <th>765</th>\n",
              "      <td>5</td>\n",
              "      <td>121</td>\n",
              "      <td>72</td>\n",
              "      <td>23</td>\n",
              "      <td>112</td>\n",
              "      <td>26.2</td>\n",
              "      <td>0.245</td>\n",
              "      <td>30</td>\n",
              "      <td>0</td>\n",
              "    </tr>\n",
              "    <tr>\n",
              "      <th>766</th>\n",
              "      <td>1</td>\n",
              "      <td>126</td>\n",
              "      <td>60</td>\n",
              "      <td>0</td>\n",
              "      <td>0</td>\n",
              "      <td>30.1</td>\n",
              "      <td>0.349</td>\n",
              "      <td>47</td>\n",
              "      <td>1</td>\n",
              "    </tr>\n",
              "    <tr>\n",
              "      <th>767</th>\n",
              "      <td>1</td>\n",
              "      <td>93</td>\n",
              "      <td>70</td>\n",
              "      <td>31</td>\n",
              "      <td>0</td>\n",
              "      <td>30.4</td>\n",
              "      <td>0.315</td>\n",
              "      <td>23</td>\n",
              "      <td>0</td>\n",
              "    </tr>\n",
              "  </tbody>\n",
              "</table>\n",
              "<p>768 rows × 9 columns</p>\n",
              "</div>\n",
              "      <button class=\"colab-df-convert\" onclick=\"convertToInteractive('df-63832e9b-f316-486c-805e-aac6c955a68e')\"\n",
              "              title=\"Convert this dataframe to an interactive table.\"\n",
              "              style=\"display:none;\">\n",
              "        \n",
              "  <svg xmlns=\"http://www.w3.org/2000/svg\" height=\"24px\"viewBox=\"0 0 24 24\"\n",
              "       width=\"24px\">\n",
              "    <path d=\"M0 0h24v24H0V0z\" fill=\"none\"/>\n",
              "    <path d=\"M18.56 5.44l.94 2.06.94-2.06 2.06-.94-2.06-.94-.94-2.06-.94 2.06-2.06.94zm-11 1L8.5 8.5l.94-2.06 2.06-.94-2.06-.94L8.5 2.5l-.94 2.06-2.06.94zm10 10l.94 2.06.94-2.06 2.06-.94-2.06-.94-.94-2.06-.94 2.06-2.06.94z\"/><path d=\"M17.41 7.96l-1.37-1.37c-.4-.4-.92-.59-1.43-.59-.52 0-1.04.2-1.43.59L10.3 9.45l-7.72 7.72c-.78.78-.78 2.05 0 2.83L4 21.41c.39.39.9.59 1.41.59.51 0 1.02-.2 1.41-.59l7.78-7.78 2.81-2.81c.8-.78.8-2.07 0-2.86zM5.41 20L4 18.59l7.72-7.72 1.47 1.35L5.41 20z\"/>\n",
              "  </svg>\n",
              "      </button>\n",
              "      \n",
              "  <style>\n",
              "    .colab-df-container {\n",
              "      display:flex;\n",
              "      flex-wrap:wrap;\n",
              "      gap: 12px;\n",
              "    }\n",
              "\n",
              "    .colab-df-convert {\n",
              "      background-color: #E8F0FE;\n",
              "      border: none;\n",
              "      border-radius: 50%;\n",
              "      cursor: pointer;\n",
              "      display: none;\n",
              "      fill: #1967D2;\n",
              "      height: 32px;\n",
              "      padding: 0 0 0 0;\n",
              "      width: 32px;\n",
              "    }\n",
              "\n",
              "    .colab-df-convert:hover {\n",
              "      background-color: #E2EBFA;\n",
              "      box-shadow: 0px 1px 2px rgba(60, 64, 67, 0.3), 0px 1px 3px 1px rgba(60, 64, 67, 0.15);\n",
              "      fill: #174EA6;\n",
              "    }\n",
              "\n",
              "    [theme=dark] .colab-df-convert {\n",
              "      background-color: #3B4455;\n",
              "      fill: #D2E3FC;\n",
              "    }\n",
              "\n",
              "    [theme=dark] .colab-df-convert:hover {\n",
              "      background-color: #434B5C;\n",
              "      box-shadow: 0px 1px 3px 1px rgba(0, 0, 0, 0.15);\n",
              "      filter: drop-shadow(0px 1px 2px rgba(0, 0, 0, 0.3));\n",
              "      fill: #FFFFFF;\n",
              "    }\n",
              "  </style>\n",
              "\n",
              "      <script>\n",
              "        const buttonEl =\n",
              "          document.querySelector('#df-63832e9b-f316-486c-805e-aac6c955a68e button.colab-df-convert');\n",
              "        buttonEl.style.display =\n",
              "          google.colab.kernel.accessAllowed ? 'block' : 'none';\n",
              "\n",
              "        async function convertToInteractive(key) {\n",
              "          const element = document.querySelector('#df-63832e9b-f316-486c-805e-aac6c955a68e');\n",
              "          const dataTable =\n",
              "            await google.colab.kernel.invokeFunction('convertToInteractive',\n",
              "                                                     [key], {});\n",
              "          if (!dataTable) return;\n",
              "\n",
              "          const docLinkHtml = 'Like what you see? Visit the ' +\n",
              "            '<a target=\"_blank\" href=https://colab.research.google.com/notebooks/data_table.ipynb>data table notebook</a>'\n",
              "            + ' to learn more about interactive tables.';\n",
              "          element.innerHTML = '';\n",
              "          dataTable['output_type'] = 'display_data';\n",
              "          await google.colab.output.renderOutput(dataTable, element);\n",
              "          const docLink = document.createElement('div');\n",
              "          docLink.innerHTML = docLinkHtml;\n",
              "          element.appendChild(docLink);\n",
              "        }\n",
              "      </script>\n",
              "    </div>\n",
              "  </div>\n",
              "  "
            ]
          },
          "metadata": {},
          "execution_count": 353
        }
      ],
      "source": [
        "fulldata=pd.read_csv('drive/MyDrive/diabetes.csv')\n",
        "fulldata"
      ]
    },
    {
      "cell_type": "markdown",
      "metadata": {
        "id": "UmbA07a8NPdk"
      },
      "source": [
        "**Data Preprocessing**"
      ]
    },
    {
      "cell_type": "markdown",
      "source": [
        "**Outliers Detection**"
      ],
      "metadata": {
        "id": "TC3j7qmktfaC"
      }
    },
    {
      "cell_type": "code",
      "source": [
        "fig, axes = plt.subplots(3, 3, figsize=(15, 5), sharex=True)\n",
        "fig.suptitle('Variables Values Distribution')\n",
        "\n",
        "sns.boxplot(ax=axes[0, 0], y=fulldata['Pregnancies'])\n",
        "sns.boxplot(ax=axes[0, 1], y=fulldata['Glucose'])\n",
        "sns.boxplot(ax=axes[0, 2], y=fulldata['BloodPressure'])\n",
        "sns.boxplot(ax=axes[1, 0], y=fulldata['SkinThickness'])\n",
        "sns.boxplot(ax=axes[1, 1], y=fulldata['Insulin'])\n",
        "sns.boxplot(ax=axes[1, 2], y=fulldata['BMI'])\n",
        "sns.boxplot(ax=axes[2, 0], y=fulldata['DiabetesPedigreeFunction'])\n",
        "sns.boxplot(ax=axes[2, 1], y=fulldata['Age'])"
      ],
      "metadata": {
        "colab": {
          "base_uri": "https://localhost:8080/",
          "height": 381
        },
        "id": "qJMxwZLmzGhc",
        "outputId": "a2b98fab-43bf-4329-aa3f-4912c63d884d"
      },
      "execution_count": 363,
      "outputs": [
        {
          "output_type": "execute_result",
          "data": {
            "text/plain": [
              "<matplotlib.axes._subplots.AxesSubplot at 0x7f67a9aea350>"
            ]
          },
          "metadata": {},
          "execution_count": 363
        },
        {
          "output_type": "display_data",
          "data": {
            "text/plain": [
              "<Figure size 1080x360 with 9 Axes>"
            ],
            "image/png": "[encoded data removed]"
          },
          "metadata": {}
        }
      ]
    },
    {
      "cell_type": "markdown",
      "source": [
        "**Outliers Removal**"
      ],
      "metadata": {
        "id": "hV1X6vwlt8g-"
      }
    },
    {
      "cell_type": "code",
      "source": [
        "Pregnancies_q3 = fulldata[\"Pregnancies\"].quantile(0.75)  \n",
        "Pregnancies_q1 = fulldata[\"Pregnancies\"].quantile(0.25)\n",
        "print(Pregnancies_q3), print(Pregnancies_q1)\n",
        "\n",
        "Pregnancies_IQR = Pregnancies_q3 - Pregnancies_q1\n",
        "Pregnancies_low_limit = Pregnancies_q1 - (Pregnancies_IQR * 1.5)\n",
        "Pregnancies_upp_limit = Pregnancies_q3 + (Pregnancies_IQR * 1.5)\n",
        "\n",
        "print(Pregnancies_IQR), print(Pregnancies_upp_limit), print(Pregnancies_low_limit)\n",
        "print(fulldata['Pregnancies'].max()), print(fulldata['Pregnancies'].min())\n",
        "\n",
        "fulldata.loc[fulldata['Pregnancies'] > Pregnancies_upp_limit, 'Pregnancies'] = Pregnancies_upp_limit\n",
        "fulldata.loc[fulldata['Pregnancies'] < Pregnancies_low_limit, 'Pregnancies'] = Pregnancies_low_limit\n",
        "fulldata['Pregnancies'].max(), fulldata['Pregnancies'].min()"
      ],
      "metadata": {
        "colab": {
          "base_uri": "https://localhost:8080/"
        },
        "id": "DYUlfoKOAoQf",
        "outputId": "d17933c3-cad3-4123-a22d-56e89c33be3c"
      },
      "execution_count": 355,
      "outputs": [
        {
          "output_type": "stream",
          "name": "stdout",
          "text": [
            "6.0\n",
            "1.0\n",
            "5.0\n",
            "13.5\n",
            "-6.5\n",
            "17\n",
            "0\n"
          ]
        },
        {
          "output_type": "execute_result",
          "data": {
            "text/plain": [
              "(13.5, 0.0)"
            ]
          },
          "metadata": {},
          "execution_count": 355
        }
      ]
    },
    {
      "cell_type": "code",
      "source": [
        "Glucose_q3 = fulldata[\"Glucose\"].quantile(0.75)  \n",
        "Glucose_q1 = fulldata[\"Glucose\"].quantile(0.25)\n",
        "print(Glucose_q3), print(Glucose_q1)\n",
        "\n",
        "Glucose_IQR = Glucose_q3 - Glucose_q1\n",
        "Glucose_low_limit = Glucose_q1 - (Glucose_IQR * 1.5)\n",
        "Glucose_upp_limit = Glucose_q3 + (Glucose_IQR * 1.5)\n",
        "\n",
        "print(Glucose_IQR), print(Glucose_upp_limit), print(Glucose_low_limit)\n",
        "print(fulldata['Glucose'].max()), print(fulldata['Glucose'].min())\n",
        "\n",
        "fulldata.loc[fulldata['Glucose'] > Glucose_upp_limit, 'Glucose'] = Glucose_upp_limit\n",
        "fulldata.loc[fulldata['Glucose'] < Glucose_low_limit, 'Glucose'] = Glucose_low_limit\n",
        "fulldata['Glucose'].max(), fulldata['Glucose'].min()"
      ],
      "metadata": {
        "colab": {
          "base_uri": "https://localhost:8080/"
        },
        "id": "J-4SrmuXOxRI",
        "outputId": "2ec125f1-f453-472e-a747-b0c82a8681fa"
      },
      "execution_count": 356,
      "outputs": [
        {
          "output_type": "stream",
          "name": "stdout",
          "text": [
            "140.25\n",
            "99.0\n",
            "41.25\n",
            "202.125\n",
            "37.125\n",
            "199\n",
            "0\n"
          ]
        },
        {
          "output_type": "execute_result",
          "data": {
            "text/plain": [
              "(199.0, 37.125)"
            ]
          },
          "metadata": {},
          "execution_count": 356
        }
      ]
    },
    {
      "cell_type": "code",
      "source": [
        "BloodPressure_q3 = fulldata[\"BloodPressure\"].quantile(0.75)  \n",
        "BloodPressure_q1 = fulldata[\"BloodPressure\"].quantile(0.25)\n",
        "print(BloodPressure_q3), print(BloodPressure_q1)\n",
        "\n",
        "BloodPressure_IQR = BloodPressure_q3 - BloodPressure_q1\n",
        "BloodPressure_low_limit = BloodPressure_q1 - (BloodPressure_IQR * 1.5)\n",
        "BloodPressure_upp_limit = BloodPressure_q3 + (BloodPressure_IQR * 1.5)\n",
        "\n",
        "print(BloodPressure_IQR), print(BloodPressure_low_limit), print(BloodPressure_upp_limit)\n",
        "fulldata['BloodPressure'].max(), fulldata['BloodPressure'].min()\n",
        "\n",
        "fulldata.loc[fulldata['BloodPressure'] > BloodPressure_upp_limit, 'BloodPressure'] = BloodPressure_upp_limit\n",
        "fulldata.loc[fulldata['BloodPressure'] < BloodPressure_low_limit, 'BloodPressure'] = BloodPressure_low_limit\n",
        "fulldata['BloodPressure'].max(), fulldata['BloodPressure'].min()"
      ],
      "metadata": {
        "colab": {
          "base_uri": "https://localhost:8080/"
        },
        "id": "JJL8CNtpAiAd",
        "outputId": "85d29d8c-6406-4fe5-e912-a61f9a52d673"
      },
      "execution_count": 357,
      "outputs": [
        {
          "output_type": "stream",
          "name": "stdout",
          "text": [
            "80.0\n",
            "62.0\n",
            "18.0\n",
            "35.0\n",
            "107.0\n"
          ]
        },
        {
          "output_type": "execute_result",
          "data": {
            "text/plain": [
              "(107, 35)"
            ]
          },
          "metadata": {},
          "execution_count": 357
        }
      ]
    },
    {
      "cell_type": "code",
      "source": [
        "SkinThickness_q3 = fulldata[\"SkinThickness\"].quantile(0.75)  \n",
        "SkinThickness_q1 = fulldata[\"SkinThickness\"].quantile(0.25)\n",
        "print(SkinThickness_q3), print(SkinThickness_q1)\n",
        "\n",
        "SkinThickness_IQR = SkinThickness_q3 - SkinThickness_q1\n",
        "SkinThickness_low_limit = SkinThickness_q1 - (SkinThickness_IQR * 1.5)\n",
        "SkinThickness_upp_limit = SkinThickness_q3 + (SkinThickness_IQR * 1.5)\n",
        "\n",
        "print(SkinThickness_IQR), print(SkinThickness_low_limit), print(SkinThickness_upp_limit)\n",
        "fulldata['SkinThickness'].max(), fulldata['SkinThickness'].min()\n",
        "\n",
        "fulldata.loc[fulldata['SkinThickness'] > SkinThickness_upp_limit, 'SkinThickness'] = SkinThickness_upp_limit\n",
        "fulldata.loc[fulldata['SkinThickness'] < SkinThickness_low_limit, 'SkinThickness'] = SkinThickness_low_limit\n",
        "fulldata['SkinThickness'].max(), fulldata['SkinThickness'].min()"
      ],
      "metadata": {
        "colab": {
          "base_uri": "https://localhost:8080/"
        },
        "id": "jZMjx-yNt9tb",
        "outputId": "e2e5d2f0-f461-4408-80cc-3a3dcd97adc7"
      },
      "execution_count": 358,
      "outputs": [
        {
          "output_type": "stream",
          "name": "stdout",
          "text": [
            "32.0\n",
            "0.0\n",
            "32.0\n",
            "-48.0\n",
            "80.0\n"
          ]
        },
        {
          "output_type": "execute_result",
          "data": {
            "text/plain": [
              "(80, 0)"
            ]
          },
          "metadata": {},
          "execution_count": 358
        }
      ]
    },
    {
      "cell_type": "code",
      "source": [
        "Insulin_q3 = fulldata[\"Insulin\"].quantile(0.75)  \n",
        "Insulin_q1 = fulldata[\"Insulin\"].quantile(0.25)\n",
        "print(Insulin_q3), print(Insulin_q1)\n",
        "\n",
        "Insulin_IQR = Insulin_q3 - Insulin_q1\n",
        "Insulin_low_limit = Insulin_q1 - (Insulin_IQR * 1.5)\n",
        "Insulin_upp_limit = Insulin_q3 + (Insulin_IQR * 1.5)\n",
        "\n",
        "print(Insulin_IQR), print(Insulin_low_limit), print(Insulin_upp_limit)\n",
        "fulldata['Insulin'].max(), fulldata['Insulin'].min()\n",
        "\n",
        "fulldata.loc[fulldata['Insulin'] > Insulin_upp_limit, 'Insulin'] = Insulin_upp_limit\n",
        "fulldata.loc[fulldata['Insulin'] < Insulin_low_limit, 'Insulin'] = Insulin_low_limit\n",
        "fulldata['Insulin'].max(), fulldata['Insulin'].min()"
      ],
      "metadata": {
        "colab": {
          "base_uri": "https://localhost:8080/"
        },
        "id": "xX_wqHvquGey",
        "outputId": "478a9b52-ca08-45de-f425-204fb26e0584"
      },
      "execution_count": 359,
      "outputs": [
        {
          "output_type": "stream",
          "name": "stdout",
          "text": [
            "127.25\n",
            "0.0\n",
            "127.25\n",
            "-190.875\n",
            "318.125\n"
          ]
        },
        {
          "output_type": "execute_result",
          "data": {
            "text/plain": [
              "(318.125, 0.0)"
            ]
          },
          "metadata": {},
          "execution_count": 359
        }
      ]
    },
    {
      "cell_type": "code",
      "source": [
        "BMI_q3 = fulldata[\"BMI\"].quantile(0.75)  \n",
        "BMI_q1 = fulldata[\"BMI\"].quantile(0.25)\n",
        "print(BMI_q3), print(BMI_q1)\n",
        "\n",
        "BMI_IQR = BMI_q3 - BMI_q1\n",
        "BMI_low_limit = BMI_q1 - (BMI_IQR * 1.5)\n",
        "BMI_upp_limit = BMI_q3 + (BMI_IQR * 1.5)\n",
        "\n",
        "print(BMI_IQR), print(BMI_upp_limit), print(BMI_low_limit)\n",
        "print(fulldata['BMI'].max()), print(fulldata['BMI'].min())\n",
        "\n",
        "fulldata.loc[fulldata['BMI'] > BMI_upp_limit, 'BMI'] = BMI_upp_limit\n",
        "fulldata.loc[fulldata['BMI'] < BMI_low_limit, 'BMI'] = BMI_low_limit\n",
        "fulldata['BMI'].max(), fulldata['BMI'].min()"
      ],
      "metadata": {
        "colab": {
          "base_uri": "https://localhost:8080/"
        },
        "id": "x03ulYzFQXtQ",
        "outputId": "0e6d129d-ccd3-47fc-a5a2-be4c2b83555a"
      },
      "execution_count": 360,
      "outputs": [
        {
          "output_type": "stream",
          "name": "stdout",
          "text": [
            "36.6\n",
            "27.3\n",
            "9.3\n",
            "50.550000000000004\n",
            "13.35\n",
            "67.1\n",
            "0.0\n"
          ]
        },
        {
          "output_type": "execute_result",
          "data": {
            "text/plain": [
              "(50.550000000000004, 13.35)"
            ]
          },
          "metadata": {},
          "execution_count": 360
        }
      ]
    },
    {
      "cell_type": "code",
      "source": [
        "DiabetesPedigreeFunction_q3 = fulldata[\"DiabetesPedigreeFunction\"].quantile(0.75)  \n",
        "DiabetesPedigreeFunction_q1 = fulldata[\"DiabetesPedigreeFunction\"].quantile(0.25)\n",
        "print(DiabetesPedigreeFunction_q3), print(DiabetesPedigreeFunction_q1)\n",
        "\n",
        "DiabetesPedigreeFunction_IQR = DiabetesPedigreeFunction_q3 - DiabetesPedigreeFunction_q1\n",
        "DiabetesPedigreeFunction_low_limit = DiabetesPedigreeFunction_q1 - (DiabetesPedigreeFunction_IQR * 1.5)\n",
        "DiabetesPedigreeFunction_upp_limit = DiabetesPedigreeFunction_q3 + (DiabetesPedigreeFunction_IQR * 1.5)\n",
        "\n",
        "print(DiabetesPedigreeFunction_IQR), print(DiabetesPedigreeFunction_upp_limit), print(DiabetesPedigreeFunction_low_limit)\n",
        "print(fulldata['DiabetesPedigreeFunction'].max()), print(fulldata['DiabetesPedigreeFunction'].min())\n",
        "\n",
        "fulldata.loc[fulldata['DiabetesPedigreeFunction'] > DiabetesPedigreeFunction_upp_limit, 'DiabetesPedigreeFunction'] = DiabetesPedigreeFunction_upp_limit\n",
        "fulldata.loc[fulldata['DiabetesPedigreeFunction'] < DiabetesPedigreeFunction_low_limit, 'DiabetesPedigreeFunction'] = DiabetesPedigreeFunction_low_limit\n",
        "fulldata['DiabetesPedigreeFunction'].max(), fulldata['DiabetesPedigreeFunction'].min()"
      ],
      "metadata": {
        "colab": {
          "base_uri": "https://localhost:8080/"
        },
        "id": "vt37rTh6TCZV",
        "outputId": "0fd0f41a-8387-48be-cbf2-5be5319f48cb"
      },
      "execution_count": 361,
      "outputs": [
        {
          "output_type": "stream",
          "name": "stdout",
          "text": [
            "0.62625\n",
            "0.24375\n",
            "0.38249999999999995\n",
            "1.2\n",
            "-0.32999999999999996\n",
            "2.42\n",
            "0.078\n"
          ]
        },
        {
          "output_type": "execute_result",
          "data": {
            "text/plain": [
              "(1.2, 0.078)"
            ]
          },
          "metadata": {},
          "execution_count": 361
        }
      ]
    },
    {
      "cell_type": "code",
      "source": [
        "Age_q3 = fulldata[\"Age\"].quantile(0.75)  \n",
        "Age_q1 = fulldata[\"Age\"].quantile(0.25)\n",
        "print(Age_q3), print(Age_q1)\n",
        "\n",
        "Age_IQR = Age_q3 - Age_q1\n",
        "Age_low_limit = Age_q1 - (Age_IQR * 1.5)\n",
        "Age_upp_limit = Age_q3 + (Age_IQR * 1.5)\n",
        "\n",
        "print(Age_IQR), print(Age_upp_limit), print(Age_low_limit)\n",
        "print(fulldata['Age'].max()), print(fulldata['Age'].min())\n",
        "\n",
        "fulldata.loc[fulldata['Age'] > Age_upp_limit, 'Age'] = Age_upp_limit\n",
        "fulldata.loc[fulldata['Age'] < Age_low_limit, 'Age'] = Age_low_limit\n",
        "fulldata['Age'].max(), fulldata['Age'].min()"
      ],
      "metadata": {
        "colab": {
          "base_uri": "https://localhost:8080/"
        },
        "id": "H4_FTQHNRhv2",
        "outputId": "e761c3de-d9ac-4c3e-a7a5-9f979d852938"
      },
      "execution_count": 362,
      "outputs": [
        {
          "output_type": "stream",
          "name": "stdout",
          "text": [
            "41.0\n",
            "24.0\n",
            "17.0\n",
            "66.5\n",
            "-1.5\n",
            "81\n",
            "21\n"
          ]
        },
        {
          "output_type": "execute_result",
          "data": {
            "text/plain": [
              "(66.5, 21.0)"
            ]
          },
          "metadata": {},
          "execution_count": 362
        }
      ]
    },
    {
      "cell_type": "markdown",
      "metadata": {
        "id": "okmcvklCNZBp"
      },
      "source": [
        "**Data Cleaning**"
      ]
    },
    {
      "cell_type": "code",
      "source": [
        "msno.matrix(fulldata)"
      ],
      "metadata": {
        "colab": {
          "base_uri": "https://localhost:8080/",
          "height": 552
        },
        "id": "0zmAm738GYHV",
        "outputId": "88e61268-c876-407b-bc46-85c2e399afbe"
      },
      "execution_count": 309,
      "outputs": [
        {
          "output_type": "execute_result",
          "data": {
            "text/plain": [
              "<matplotlib.axes._subplots.AxesSubplot at 0x7f67a49de2d0>"
            ]
          },
          "metadata": {},
          "execution_count": 309
        },
        {
          "output_type": "display_data",
          "data": {
            "text/plain": [
              "<Figure size 1800x720 with 2 Axes>"
            ],
            "image/png": "[encoded data removed]"
          },
          "metadata": {
            "needs_background": "light"
          }
        }
      ]
    },
    {
      "cell_type": "markdown",
      "source": [
        "**Feature Selection**"
      ],
      "metadata": {
        "id": "TmO1Qq28xX8K"
      }
    },
    {
      "cell_type": "code",
      "source": [
        "classifier = SelectKBest(score_func=f_classif,k=5)\n",
        "fits = classifier.fit(fulldata.drop('Outcome',axis=1),fulldata['Outcome'])\n",
        "x=pd.DataFrame(fits.scores_)\n",
        "columns = pd.DataFrame(fulldata.drop('Outcome',axis=1).columns)\n",
        "fscores = pd.concat([columns,x],axis=1)\n",
        "fscores.columns = ['Attribute','Score']\n",
        "fscores.sort_values(by='Score',ascending=False)"
      ],
      "metadata": {
        "colab": {
          "base_uri": "https://localhost:8080/",
          "height": 300
        },
        "id": "qfw5khmzgs_r",
        "outputId": "62a26c05-7166-4ca2-83c9-5da945707dd0"
      },
      "execution_count": 310,
      "outputs": [
        {
          "output_type": "execute_result",
          "data": {
            "text/plain": [
              "                  Attribute       Score\n",
              "1                   Glucose  228.278996\n",
              "5                       BMI   81.287147\n",
              "7                       Age   47.944757\n",
              "0               Pregnancies   39.106100\n",
              "6  DiabetesPedigreeFunction   27.135876\n",
              "4                   Insulin   12.103615\n",
              "2             BloodPressure    9.961146\n",
              "3             SkinThickness    4.118049"
            ],
            "text/html": [
              "\n",
              "  <div id=\"df-8a5404ec-c344-483f-98ff-61aa6c85cafc\">\n",
              "    <div class=\"colab-df-container\">\n",
              "      <div>\n",
              "<style scoped>\n",
              "    .dataframe tbody tr th:only-of-type {\n",
              "        vertical-align: middle;\n",
              "    }\n",
              "\n",
              "    .dataframe tbody tr th {\n",
              "        vertical-align: top;\n",
              "    }\n",
              "\n",
              "    .dataframe thead th {\n",
              "        text-align: right;\n",
              "    }\n",
              "</style>\n",
              "<table border=\"1\" class=\"dataframe\">\n",
              "  <thead>\n",
              "    <tr style=\"text-align: right;\">\n",
              "      <th></th>\n",
              "      <th>Attribute</th>\n",
              "      <th>Score</th>\n",
              "    </tr>\n",
              "  </thead>\n",
              "  <tbody>\n",
              "    <tr>\n",
              "      <th>1</th>\n",
              "      <td>Glucose</td>\n",
              "      <td>228.278996</td>\n",
              "    </tr>\n",
              "    <tr>\n",
              "      <th>5</th>\n",
              "      <td>BMI</td>\n",
              "      <td>81.287147</td>\n",
              "    </tr>\n",
              "    <tr>\n",
              "      <th>7</th>\n",
              "      <td>Age</td>\n",
              "      <td>47.944757</td>\n",
              "    </tr>\n",
              "    <tr>\n",
              "      <th>0</th>\n",
              "      <td>Pregnancies</td>\n",
              "      <td>39.106100</td>\n",
              "    </tr>\n",
              "    <tr>\n",
              "      <th>6</th>\n",
              "      <td>DiabetesPedigreeFunction</td>\n",
              "      <td>27.135876</td>\n",
              "    </tr>\n",
              "    <tr>\n",
              "      <th>4</th>\n",
              "      <td>Insulin</td>\n",
              "      <td>12.103615</td>\n",
              "    </tr>\n",
              "    <tr>\n",
              "      <th>2</th>\n",
              "      <td>BloodPressure</td>\n",
              "      <td>9.961146</td>\n",
              "    </tr>\n",
              "    <tr>\n",
              "      <th>3</th>\n",
              "      <td>SkinThickness</td>\n",
              "      <td>4.118049</td>\n",
              "    </tr>\n",
              "  </tbody>\n",
              "</table>\n",
              "</div>\n",
              "      <button class=\"colab-df-convert\" onclick=\"convertToInteractive('df-8a5404ec-c344-483f-98ff-61aa6c85cafc')\"\n",
              "              title=\"Convert this dataframe to an interactive table.\"\n",
              "              style=\"display:none;\">\n",
              "        \n",
              "  <svg xmlns=\"http://www.w3.org/2000/svg\" height=\"24px\"viewBox=\"0 0 24 24\"\n",
              "       width=\"24px\">\n",
              "    <path d=\"M0 0h24v24H0V0z\" fill=\"none\"/>\n",
              "    <path d=\"M18.56 5.44l.94 2.06.94-2.06 2.06-.94-2.06-.94-.94-2.06-.94 2.06-2.06.94zm-11 1L8.5 8.5l.94-2.06 2.06-.94-2.06-.94L8.5 2.5l-.94 2.06-2.06.94zm10 10l.94 2.06.94-2.06 2.06-.94-2.06-.94-.94-2.06-.94 2.06-2.06.94z\"/><path d=\"M17.41 7.96l-1.37-1.37c-.4-.4-.92-.59-1.43-.59-.52 0-1.04.2-1.43.59L10.3 9.45l-7.72 7.72c-.78.78-.78 2.05 0 2.83L4 21.41c.39.39.9.59 1.41.59.51 0 1.02-.2 1.41-.59l7.78-7.78 2.81-2.81c.8-.78.8-2.07 0-2.86zM5.41 20L4 18.59l7.72-7.72 1.47 1.35L5.41 20z\"/>\n",
              "  </svg>\n",
              "      </button>\n",
              "      \n",
              "  <style>\n",
              "    .colab-df-container {\n",
              "      display:flex;\n",
              "      flex-wrap:wrap;\n",
              "      gap: 12px;\n",
              "    }\n",
              "\n",
              "    .colab-df-convert {\n",
              "      background-color: #E8F0FE;\n",
              "      border: none;\n",
              "      border-radius: 50%;\n",
              "      cursor: pointer;\n",
              "      display: none;\n",
              "      fill: #1967D2;\n",
              "      height: 32px;\n",
              "      padding: 0 0 0 0;\n",
              "      width: 32px;\n",
              "    }\n",
              "\n",
              "    .colab-df-convert:hover {\n",
              "      background-color: #E2EBFA;\n",
              "      box-shadow: 0px 1px 2px rgba(60, 64, 67, 0.3), 0px 1px 3px 1px rgba(60, 64, 67, 0.15);\n",
              "      fill: #174EA6;\n",
              "    }\n",
              "\n",
              "    [theme=dark] .colab-df-convert {\n",
              "      background-color: #3B4455;\n",
              "      fill: #D2E3FC;\n",
              "    }\n",
              "\n",
              "    [theme=dark] .colab-df-convert:hover {\n",
              "      background-color: #434B5C;\n",
              "      box-shadow: 0px 1px 3px 1px rgba(0, 0, 0, 0.15);\n",
              "      filter: drop-shadow(0px 1px 2px rgba(0, 0, 0, 0.3));\n",
              "      fill: #FFFFFF;\n",
              "    }\n",
              "  </style>\n",
              "\n",
              "      <script>\n",
              "        const buttonEl =\n",
              "          document.querySelector('#df-8a5404ec-c344-483f-98ff-61aa6c85cafc button.colab-df-convert');\n",
              "        buttonEl.style.display =\n",
              "          google.colab.kernel.accessAllowed ? 'block' : 'none';\n",
              "\n",
              "        async function convertToInteractive(key) {\n",
              "          const element = document.querySelector('#df-8a5404ec-c344-483f-98ff-61aa6c85cafc');\n",
              "          const dataTable =\n",
              "            await google.colab.kernel.invokeFunction('convertToInteractive',\n",
              "                                                     [key], {});\n",
              "          if (!dataTable) return;\n",
              "\n",
              "          const docLinkHtml = 'Like what you see? Visit the ' +\n",
              "            '<a target=\"_blank\" href=https://colab.research.google.com/notebooks/data_table.ipynb>data table notebook</a>'\n",
              "            + ' to learn more about interactive tables.';\n",
              "          element.innerHTML = '';\n",
              "          dataTable['output_type'] = 'display_data';\n",
              "          await google.colab.output.renderOutput(dataTable, element);\n",
              "          const docLink = document.createElement('div');\n",
              "          docLink.innerHTML = docLinkHtml;\n",
              "          element.appendChild(docLink);\n",
              "        }\n",
              "      </script>\n",
              "    </div>\n",
              "  </div>\n",
              "  "
            ]
          },
          "metadata": {},
          "execution_count": 310
        }
      ]
    },
    {
      "cell_type": "code",
      "source": [
        "fulldata.corr()['Outcome'].sort_values(ascending=False)"
      ],
      "metadata": {
        "colab": {
          "base_uri": "https://localhost:8080/"
        },
        "id": "ROjRCXWPXlpF",
        "outputId": "8f9f10c3-70e4-44e8-c8c1-29575c6984e7"
      },
      "execution_count": 311,
      "outputs": [
        {
          "output_type": "execute_result",
          "data": {
            "text/plain": [
              "Outcome                     1.000000\n",
              "Glucose                     0.479158\n",
              "BMI                         0.309739\n",
              "Age                         0.242702\n",
              "Pregnancies                 0.220392\n",
              "DiabetesPedigreeFunction    0.184969\n",
              "Insulin                     0.124721\n",
              "BloodPressure               0.113301\n",
              "SkinThickness               0.073125\n",
              "Name: Outcome, dtype: float64"
            ]
          },
          "metadata": {},
          "execution_count": 311
        }
      ]
    },
    {
      "cell_type": "code",
      "execution_count": 312,
      "metadata": {
        "id": "dSxf_I7jnTsY"
      },
      "outputs": [],
      "source": [
        "#fulldata.drop('BloodPressure', axis=1, inplace=True)\n",
        "fulldata.drop('SkinThickness', axis=1, inplace=True)\n",
        "#fulldata.drop('Insulin', axis=1, inplace=True)\n",
        "#fulldata.drop('xx', axis=1, inplace=True)"
      ]
    },
    {
      "cell_type": "code",
      "execution_count": 313,
      "metadata": {
        "colab": {
          "base_uri": "https://localhost:8080/",
          "height": 424
        },
        "id": "SL6TroUxweNo",
        "outputId": "141f06ca-dc3c-4580-d38c-410526709655"
      },
      "outputs": [
        {
          "output_type": "execute_result",
          "data": {
            "text/plain": [
              "     Pregnancies  Glucose  BloodPressure  Insulin   BMI  \\\n",
              "0            6.0    148.0             72      0.0  33.6   \n",
              "1            1.0     85.0             66      0.0  26.6   \n",
              "2            8.0    183.0             64      0.0  23.3   \n",
              "3            1.0     89.0             66     94.0  28.1   \n",
              "4            0.0    137.0             40    168.0  43.1   \n",
              "..           ...      ...            ...      ...   ...   \n",
              "763         10.0    101.0             76    180.0  32.9   \n",
              "764          2.0    122.0             70      0.0  36.8   \n",
              "765          5.0    121.0             72    112.0  26.2   \n",
              "766          1.0    126.0             60      0.0  30.1   \n",
              "767          1.0     93.0             70      0.0  30.4   \n",
              "\n",
              "     DiabetesPedigreeFunction   Age  Outcome  \n",
              "0                       0.627  50.0        1  \n",
              "1                       0.351  31.0        0  \n",
              "2                       0.672  32.0        1  \n",
              "3                       0.167  21.0        0  \n",
              "4                       1.200  33.0        1  \n",
              "..                        ...   ...      ...  \n",
              "763                     0.171  63.0        0  \n",
              "764                     0.340  27.0        0  \n",
              "765                     0.245  30.0        0  \n",
              "766                     0.349  47.0        1  \n",
              "767                     0.315  23.0        0  \n",
              "\n",
              "[768 rows x 8 columns]"
            ],
            "text/html": [
              "\n",
              "  <div id=\"df-53daa639-c27c-4a1e-bdcc-1ef3cae45cd8\">\n",
              "    <div class=\"colab-df-container\">\n",
              "      <div>\n",
              "<style scoped>\n",
              "    .dataframe tbody tr th:only-of-type {\n",
              "        vertical-align: middle;\n",
              "    }\n",
              "\n",
              "    .dataframe tbody tr th {\n",
              "        vertical-align: top;\n",
              "    }\n",
              "\n",
              "    .dataframe thead th {\n",
              "        text-align: right;\n",
              "    }\n",
              "</style>\n",
              "<table border=\"1\" class=\"dataframe\">\n",
              "  <thead>\n",
              "    <tr style=\"text-align: right;\">\n",
              "      <th></th>\n",
              "      <th>Pregnancies</th>\n",
              "      <th>Glucose</th>\n",
              "      <th>BloodPressure</th>\n",
              "      <th>Insulin</th>\n",
              "      <th>BMI</th>\n",
              "      <th>DiabetesPedigreeFunction</th>\n",
              "      <th>Age</th>\n",
              "      <th>Outcome</th>\n",
              "    </tr>\n",
              "  </thead>\n",
              "  <tbody>\n",
              "    <tr>\n",
              "      <th>0</th>\n",
              "      <td>6.0</td>\n",
              "      <td>148.0</td>\n",
              "      <td>72</td>\n",
              "      <td>0.0</td>\n",
              "      <td>33.6</td>\n",
              "      <td>0.627</td>\n",
              "      <td>50.0</td>\n",
              "      <td>1</td>\n",
              "    </tr>\n",
              "    <tr>\n",
              "      <th>1</th>\n",
              "      <td>1.0</td>\n",
              "      <td>85.0</td>\n",
              "      <td>66</td>\n",
              "      <td>0.0</td>\n",
              "      <td>26.6</td>\n",
              "      <td>0.351</td>\n",
              "      <td>31.0</td>\n",
              "      <td>0</td>\n",
              "    </tr>\n",
              "    <tr>\n",
              "      <th>2</th>\n",
              "      <td>8.0</td>\n",
              "      <td>183.0</td>\n",
              "      <td>64</td>\n",
              "      <td>0.0</td>\n",
              "      <td>23.3</td>\n",
              "      <td>0.672</td>\n",
              "      <td>32.0</td>\n",
              "      <td>1</td>\n",
              "    </tr>\n",
              "    <tr>\n",
              "      <th>3</th>\n",
              "      <td>1.0</td>\n",
              "      <td>89.0</td>\n",
              "      <td>66</td>\n",
              "      <td>94.0</td>\n",
              "      <td>28.1</td>\n",
              "      <td>0.167</td>\n",
              "      <td>21.0</td>\n",
              "      <td>0</td>\n",
              "    </tr>\n",
              "    <tr>\n",
              "      <th>4</th>\n",
              "      <td>0.0</td>\n",
              "      <td>137.0</td>\n",
              "      <td>40</td>\n",
              "      <td>168.0</td>\n",
              "      <td>43.1</td>\n",
              "      <td>1.200</td>\n",
              "      <td>33.0</td>\n",
              "      <td>1</td>\n",
              "    </tr>\n",
              "    <tr>\n",
              "      <th>...</th>\n",
              "      <td>...</td>\n",
              "      <td>...</td>\n",
              "      <td>...</td>\n",
              "      <td>...</td>\n",
              "      <td>...</td>\n",
              "      <td>...</td>\n",
              "      <td>...</td>\n",
              "      <td>...</td>\n",
              "    </tr>\n",
              "    <tr>\n",
              "      <th>763</th>\n",
              "      <td>10.0</td>\n",
              "      <td>101.0</td>\n",
              "      <td>76</td>\n",
              "      <td>180.0</td>\n",
              "      <td>32.9</td>\n",
              "      <td>0.171</td>\n",
              "      <td>63.0</td>\n",
              "      <td>0</td>\n",
              "    </tr>\n",
              "    <tr>\n",
              "      <th>764</th>\n",
              "      <td>2.0</td>\n",
              "      <td>122.0</td>\n",
              "      <td>70</td>\n",
              "      <td>0.0</td>\n",
              "      <td>36.8</td>\n",
              "      <td>0.340</td>\n",
              "      <td>27.0</td>\n",
              "      <td>0</td>\n",
              "    </tr>\n",
              "    <tr>\n",
              "      <th>765</th>\n",
              "      <td>5.0</td>\n",
              "      <td>121.0</td>\n",
              "      <td>72</td>\n",
              "      <td>112.0</td>\n",
              "      <td>26.2</td>\n",
              "      <td>0.245</td>\n",
              "      <td>30.0</td>\n",
              "      <td>0</td>\n",
              "    </tr>\n",
              "    <tr>\n",
              "      <th>766</th>\n",
              "      <td>1.0</td>\n",
              "      <td>126.0</td>\n",
              "      <td>60</td>\n",
              "      <td>0.0</td>\n",
              "      <td>30.1</td>\n",
              "      <td>0.349</td>\n",
              "      <td>47.0</td>\n",
              "      <td>1</td>\n",
              "    </tr>\n",
              "    <tr>\n",
              "      <th>767</th>\n",
              "      <td>1.0</td>\n",
              "      <td>93.0</td>\n",
              "      <td>70</td>\n",
              "      <td>0.0</td>\n",
              "      <td>30.4</td>\n",
              "      <td>0.315</td>\n",
              "      <td>23.0</td>\n",
              "      <td>0</td>\n",
              "    </tr>\n",
              "  </tbody>\n",
              "</table>\n",
              "<p>768 rows × 8 columns</p>\n",
              "</div>\n",
              "      <button class=\"colab-df-convert\" onclick=\"convertToInteractive('df-53daa639-c27c-4a1e-bdcc-1ef3cae45cd8')\"\n",
              "              title=\"Convert this dataframe to an interactive table.\"\n",
              "              style=\"display:none;\">\n",
              "        \n",
              "  <svg xmlns=\"http://www.w3.org/2000/svg\" height=\"24px\"viewBox=\"0 0 24 24\"\n",
              "       width=\"24px\">\n",
              "    <path d=\"M0 0h24v24H0V0z\" fill=\"none\"/>\n",
              "    <path d=\"M18.56 5.44l.94 2.06.94-2.06 2.06-.94-2.06-.94-.94-2.06-.94 2.06-2.06.94zm-11 1L8.5 8.5l.94-2.06 2.06-.94-2.06-.94L8.5 2.5l-.94 2.06-2.06.94zm10 10l.94 2.06.94-2.06 2.06-.94-2.06-.94-.94-2.06-.94 2.06-2.06.94z\"/><path d=\"M17.41 7.96l-1.37-1.37c-.4-.4-.92-.59-1.43-.59-.52 0-1.04.2-1.43.59L10.3 9.45l-7.72 7.72c-.78.78-.78 2.05 0 2.83L4 21.41c.39.39.9.59 1.41.59.51 0 1.02-.2 1.41-.59l7.78-7.78 2.81-2.81c.8-.78.8-2.07 0-2.86zM5.41 20L4 18.59l7.72-7.72 1.47 1.35L5.41 20z\"/>\n",
              "  </svg>\n",
              "      </button>\n",
              "      \n",
              "  <style>\n",
              "    .colab-df-container {\n",
              "      display:flex;\n",
              "      flex-wrap:wrap;\n",
              "      gap: 12px;\n",
              "    }\n",
              "\n",
              "    .colab-df-convert {\n",
              "      background-color: #E8F0FE;\n",
              "      border: none;\n",
              "      border-radius: 50%;\n",
              "      cursor: pointer;\n",
              "      display: none;\n",
              "      fill: #1967D2;\n",
              "      height: 32px;\n",
              "      padding: 0 0 0 0;\n",
              "      width: 32px;\n",
              "    }\n",
              "\n",
              "    .colab-df-convert:hover {\n",
              "      background-color: #E2EBFA;\n",
              "      box-shadow: 0px 1px 2px rgba(60, 64, 67, 0.3), 0px 1px 3px 1px rgba(60, 64, 67, 0.15);\n",
              "      fill: #174EA6;\n",
              "    }\n",
              "\n",
              "    [theme=dark] .colab-df-convert {\n",
              "      background-color: #3B4455;\n",
              "      fill: #D2E3FC;\n",
              "    }\n",
              "\n",
              "    [theme=dark] .colab-df-convert:hover {\n",
              "      background-color: #434B5C;\n",
              "      box-shadow: 0px 1px 3px 1px rgba(0, 0, 0, 0.15);\n",
              "      filter: drop-shadow(0px 1px 2px rgba(0, 0, 0, 0.3));\n",
              "      fill: #FFFFFF;\n",
              "    }\n",
              "  </style>\n",
              "\n",
              "      <script>\n",
              "        const buttonEl =\n",
              "          document.querySelector('#df-53daa639-c27c-4a1e-bdcc-1ef3cae45cd8 button.colab-df-convert');\n",
              "        buttonEl.style.display =\n",
              "          google.colab.kernel.accessAllowed ? 'block' : 'none';\n",
              "\n",
              "        async function convertToInteractive(key) {\n",
              "          const element = document.querySelector('#df-53daa639-c27c-4a1e-bdcc-1ef3cae45cd8');\n",
              "          const dataTable =\n",
              "            await google.colab.kernel.invokeFunction('convertToInteractive',\n",
              "                                                     [key], {});\n",
              "          if (!dataTable) return;\n",
              "\n",
              "          const docLinkHtml = 'Like what you see? Visit the ' +\n",
              "            '<a target=\"_blank\" href=https://colab.research.google.com/notebooks/data_table.ipynb>data table notebook</a>'\n",
              "            + ' to learn more about interactive tables.';\n",
              "          element.innerHTML = '';\n",
              "          dataTable['output_type'] = 'display_data';\n",
              "          await google.colab.output.renderOutput(dataTable, element);\n",
              "          const docLink = document.createElement('div');\n",
              "          docLink.innerHTML = docLinkHtml;\n",
              "          element.appendChild(docLink);\n",
              "        }\n",
              "      </script>\n",
              "    </div>\n",
              "  </div>\n",
              "  "
            ]
          },
          "metadata": {},
          "execution_count": 313
        }
      ],
      "source": [
        "fulldata"
      ]
    },
    {
      "cell_type": "code",
      "execution_count": 314,
      "metadata": {
        "colab": {
          "base_uri": "https://localhost:8080/"
        },
        "id": "dZ-GomSWoZfR",
        "outputId": "d37e4872-cf96-4301-e1af-0416c6d8ddc2"
      },
      "outputs": [
        {
          "output_type": "execute_result",
          "data": {
            "text/plain": [
              "Pregnancies                  15\n",
              "Glucose                     136\n",
              "BloodPressure                42\n",
              "Insulin                     157\n",
              "BMI                         242\n",
              "DiabetesPedigreeFunction    490\n",
              "Age                          47\n",
              "Outcome                       2\n",
              "dtype: int64"
            ]
          },
          "metadata": {},
          "execution_count": 314
        }
      ],
      "source": [
        "fulldata.nunique()"
      ]
    },
    {
      "cell_type": "code",
      "execution_count": 315,
      "metadata": {
        "colab": {
          "base_uri": "https://localhost:8080/"
        },
        "id": "4kxQ6oRMO4cP",
        "outputId": "4ecd9816-29ec-495e-c869-17977226392f"
      },
      "outputs": [
        {
          "output_type": "execute_result",
          "data": {
            "text/plain": [
              "(768, 8)"
            ]
          },
          "metadata": {},
          "execution_count": 315
        }
      ],
      "source": [
        "fulldata.shape"
      ]
    },
    {
      "cell_type": "markdown",
      "metadata": {
        "id": "oOJMsQ7UdMbn"
      },
      "source": [
        "**Import the independent and dependent variable**"
      ]
    },
    {
      "cell_type": "code",
      "execution_count": 316,
      "metadata": {
        "id": "4GNhd9pZdWCg"
      },
      "outputs": [],
      "source": [
        "xx = fulldata.drop('Outcome', axis=1)\n",
        "yy = fulldata['Outcome']"
      ]
    },
    {
      "cell_type": "code",
      "execution_count": 317,
      "metadata": {
        "colab": {
          "base_uri": "https://localhost:8080/"
        },
        "id": "vZA3WkTcdekr",
        "outputId": "9e2baf1c-f2b3-42b0-b591-adeff18687e5"
      },
      "outputs": [
        {
          "output_type": "stream",
          "name": "stdout",
          "text": [
            "(768, 7)\n",
            "(768,)\n"
          ]
        },
        {
          "output_type": "execute_result",
          "data": {
            "text/plain": [
              "(None, None)"
            ]
          },
          "metadata": {},
          "execution_count": 317
        }
      ],
      "source": [
        "print(xx.shape), print(yy.shape)"
      ]
    },
    {
      "cell_type": "code",
      "source": [
        "print(yy.value_counts())"
      ],
      "metadata": {
        "colab": {
          "base_uri": "https://localhost:8080/"
        },
        "id": "ipvmiaMA4Fus",
        "outputId": "7139f6e5-ea2e-46ab-ac24-2bdb24b9d382"
      },
      "execution_count": 318,
      "outputs": [
        {
          "output_type": "stream",
          "name": "stdout",
          "text": [
            "0    500\n",
            "1    268\n",
            "Name: Outcome, dtype: int64\n"
          ]
        }
      ]
    },
    {
      "cell_type": "markdown",
      "source": [
        "**Handling Imbalanced Data**"
      ],
      "metadata": {
        "id": "OkLbLa1yRsYU"
      }
    },
    {
      "cell_type": "code",
      "source": [
        "ros = RandomOverSampler(sampling_strategy=\"not majority\") # String\n",
        "X_res, y_res = ros.fit_resample(xx, yy)\n",
        "print(X_res.shape), print(y_res.shape)"
      ],
      "metadata": {
        "colab": {
          "base_uri": "https://localhost:8080/"
        },
        "id": "jcXtY8BqSKOO",
        "outputId": "ac65c335-3143-479e-f76b-c6a31323422b"
      },
      "execution_count": 319,
      "outputs": [
        {
          "output_type": "stream",
          "name": "stdout",
          "text": [
            "(1000, 7)\n",
            "(1000,)\n"
          ]
        },
        {
          "output_type": "execute_result",
          "data": {
            "text/plain": [
              "(None, None)"
            ]
          },
          "metadata": {},
          "execution_count": 319
        }
      ]
    },
    {
      "cell_type": "code",
      "source": [
        "print(y_res.value_counts())"
      ],
      "metadata": {
        "colab": {
          "base_uri": "https://localhost:8080/"
        },
        "id": "OmbYZXqxTLuN",
        "outputId": "13ca1fa0-7eed-4a65-c5d1-2e0eaf8540c7"
      },
      "execution_count": 320,
      "outputs": [
        {
          "output_type": "stream",
          "name": "stdout",
          "text": [
            "1    500\n",
            "0    500\n",
            "Name: Outcome, dtype: int64\n"
          ]
        }
      ]
    },
    {
      "cell_type": "code",
      "source": [
        "X_res"
      ],
      "metadata": {
        "colab": {
          "base_uri": "https://localhost:8080/",
          "height": 424
        },
        "id": "xEkz86Q5evRv",
        "outputId": "9bc6b9b8-fcd2-4e64-8f31-332ba43746b4"
      },
      "execution_count": 321,
      "outputs": [
        {
          "output_type": "execute_result",
          "data": {
            "text/plain": [
              "     Pregnancies  Glucose  BloodPressure  Insulin   BMI  \\\n",
              "0            6.0    148.0             72      0.0  33.6   \n",
              "1            1.0     85.0             66      0.0  26.6   \n",
              "2            8.0    183.0             64      0.0  23.3   \n",
              "3            1.0     89.0             66     94.0  28.1   \n",
              "4            0.0    137.0             40    168.0  43.1   \n",
              "..           ...      ...            ...      ...   ...   \n",
              "995          3.0    141.0             35      0.0  30.0   \n",
              "996          8.0    143.0             66      0.0  34.9   \n",
              "997          1.0    149.0             68    127.0  29.3   \n",
              "998         13.5    100.0             78    184.0  36.6   \n",
              "999          9.0    152.0             78    171.0  34.2   \n",
              "\n",
              "     DiabetesPedigreeFunction   Age  \n",
              "0                       0.627  50.0  \n",
              "1                       0.351  31.0  \n",
              "2                       0.672  32.0  \n",
              "3                       0.167  21.0  \n",
              "4                       1.200  33.0  \n",
              "..                        ...   ...  \n",
              "995                     0.761  27.0  \n",
              "996                     0.129  41.0  \n",
              "997                     0.349  42.0  \n",
              "998                     0.412  46.0  \n",
              "999                     0.893  33.0  \n",
              "\n",
              "[1000 rows x 7 columns]"
            ],
            "text/html": [
              "\n",
              "  <div id=\"df-3d69c103-33e4-4e7b-960a-2dc7ae9d85f7\">\n",
              "    <div class=\"colab-df-container\">\n",
              "      <div>\n",
              "<style scoped>\n",
              "    .dataframe tbody tr th:only-of-type {\n",
              "        vertical-align: middle;\n",
              "    }\n",
              "\n",
              "    .dataframe tbody tr th {\n",
              "        vertical-align: top;\n",
              "    }\n",
              "\n",
              "    .dataframe thead th {\n",
              "        text-align: right;\n",
              "    }\n",
              "</style>\n",
              "<table border=\"1\" class=\"dataframe\">\n",
              "  <thead>\n",
              "    <tr style=\"text-align: right;\">\n",
              "      <th></th>\n",
              "      <th>Pregnancies</th>\n",
              "      <th>Glucose</th>\n",
              "      <th>BloodPressure</th>\n",
              "      <th>Insulin</th>\n",
              "      <th>BMI</th>\n",
              "      <th>DiabetesPedigreeFunction</th>\n",
              "      <th>Age</th>\n",
              "    </tr>\n",
              "  </thead>\n",
              "  <tbody>\n",
              "    <tr>\n",
              "      <th>0</th>\n",
              "      <td>6.0</td>\n",
              "      <td>148.0</td>\n",
              "      <td>72</td>\n",
              "      <td>0.0</td>\n",
              "      <td>33.6</td>\n",
              "      <td>0.627</td>\n",
              "      <td>50.0</td>\n",
              "    </tr>\n",
              "    <tr>\n",
              "      <th>1</th>\n",
              "      <td>1.0</td>\n",
              "      <td>85.0</td>\n",
              "      <td>66</td>\n",
              "      <td>0.0</td>\n",
              "      <td>26.6</td>\n",
              "      <td>0.351</td>\n",
              "      <td>31.0</td>\n",
              "    </tr>\n",
              "    <tr>\n",
              "      <th>2</th>\n",
              "      <td>8.0</td>\n",
              "      <td>183.0</td>\n",
              "      <td>64</td>\n",
              "      <td>0.0</td>\n",
              "      <td>23.3</td>\n",
              "      <td>0.672</td>\n",
              "      <td>32.0</td>\n",
              "    </tr>\n",
              "    <tr>\n",
              "      <th>3</th>\n",
              "      <td>1.0</td>\n",
              "      <td>89.0</td>\n",
              "      <td>66</td>\n",
              "      <td>94.0</td>\n",
              "      <td>28.1</td>\n",
              "      <td>0.167</td>\n",
              "      <td>21.0</td>\n",
              "    </tr>\n",
              "    <tr>\n",
              "      <th>4</th>\n",
              "      <td>0.0</td>\n",
              "      <td>137.0</td>\n",
              "      <td>40</td>\n",
              "      <td>168.0</td>\n",
              "      <td>43.1</td>\n",
              "      <td>1.200</td>\n",
              "      <td>33.0</td>\n",
              "    </tr>\n",
              "    <tr>\n",
              "      <th>...</th>\n",
              "      <td>...</td>\n",
              "      <td>...</td>\n",
              "      <td>...</td>\n",
              "      <td>...</td>\n",
              "      <td>...</td>\n",
              "      <td>...</td>\n",
              "      <td>...</td>\n",
              "    </tr>\n",
              "    <tr>\n",
              "      <th>995</th>\n",
              "      <td>3.0</td>\n",
              "      <td>141.0</td>\n",
              "      <td>35</td>\n",
              "      <td>0.0</td>\n",
              "      <td>30.0</td>\n",
              "      <td>0.761</td>\n",
              "      <td>27.0</td>\n",
              "    </tr>\n",
              "    <tr>\n",
              "      <th>996</th>\n",
              "      <td>8.0</td>\n",
              "      <td>143.0</td>\n",
              "      <td>66</td>\n",
              "      <td>0.0</td>\n",
              "      <td>34.9</td>\n",
              "      <td>0.129</td>\n",
              "      <td>41.0</td>\n",
              "    </tr>\n",
              "    <tr>\n",
              "      <th>997</th>\n",
              "      <td>1.0</td>\n",
              "      <td>149.0</td>\n",
              "      <td>68</td>\n",
              "      <td>127.0</td>\n",
              "      <td>29.3</td>\n",
              "      <td>0.349</td>\n",
              "      <td>42.0</td>\n",
              "    </tr>\n",
              "    <tr>\n",
              "      <th>998</th>\n",
              "      <td>13.5</td>\n",
              "      <td>100.0</td>\n",
              "      <td>78</td>\n",
              "      <td>184.0</td>\n",
              "      <td>36.6</td>\n",
              "      <td>0.412</td>\n",
              "      <td>46.0</td>\n",
              "    </tr>\n",
              "    <tr>\n",
              "      <th>999</th>\n",
              "      <td>9.0</td>\n",
              "      <td>152.0</td>\n",
              "      <td>78</td>\n",
              "      <td>171.0</td>\n",
              "      <td>34.2</td>\n",
              "      <td>0.893</td>\n",
              "      <td>33.0</td>\n",
              "    </tr>\n",
              "  </tbody>\n",
              "</table>\n",
              "<p>1000 rows × 7 columns</p>\n",
              "</div>\n",
              "      <button class=\"colab-df-convert\" onclick=\"convertToInteractive('df-3d69c103-33e4-4e7b-960a-2dc7ae9d85f7')\"\n",
              "              title=\"Convert this dataframe to an interactive table.\"\n",
              "              style=\"display:none;\">\n",
              "        \n",
              "  <svg xmlns=\"http://www.w3.org/2000/svg\" height=\"24px\"viewBox=\"0 0 24 24\"\n",
              "       width=\"24px\">\n",
              "    <path d=\"M0 0h24v24H0V0z\" fill=\"none\"/>\n",
              "    <path d=\"M18.56 5.44l.94 2.06.94-2.06 2.06-.94-2.06-.94-.94-2.06-.94 2.06-2.06.94zm-11 1L8.5 8.5l.94-2.06 2.06-.94-2.06-.94L8.5 2.5l-.94 2.06-2.06.94zm10 10l.94 2.06.94-2.06 2.06-.94-2.06-.94-.94-2.06-.94 2.06-2.06.94z\"/><path d=\"M17.41 7.96l-1.37-1.37c-.4-.4-.92-.59-1.43-.59-.52 0-1.04.2-1.43.59L10.3 9.45l-7.72 7.72c-.78.78-.78 2.05 0 2.83L4 21.41c.39.39.9.59 1.41.59.51 0 1.02-.2 1.41-.59l7.78-7.78 2.81-2.81c.8-.78.8-2.07 0-2.86zM5.41 20L4 18.59l7.72-7.72 1.47 1.35L5.41 20z\"/>\n",
              "  </svg>\n",
              "      </button>\n",
              "      \n",
              "  <style>\n",
              "    .colab-df-container {\n",
              "      display:flex;\n",
              "      flex-wrap:wrap;\n",
              "      gap: 12px;\n",
              "    }\n",
              "\n",
              "    .colab-df-convert {\n",
              "      background-color: #E8F0FE;\n",
              "      border: none;\n",
              "      border-radius: 50%;\n",
              "      cursor: pointer;\n",
              "      display: none;\n",
              "      fill: #1967D2;\n",
              "      height: 32px;\n",
              "      padding: 0 0 0 0;\n",
              "      width: 32px;\n",
              "    }\n",
              "\n",
              "    .colab-df-convert:hover {\n",
              "      background-color: #E2EBFA;\n",
              "      box-shadow: 0px 1px 2px rgba(60, 64, 67, 0.3), 0px 1px 3px 1px rgba(60, 64, 67, 0.15);\n",
              "      fill: #174EA6;\n",
              "    }\n",
              "\n",
              "    [theme=dark] .colab-df-convert {\n",
              "      background-color: #3B4455;\n",
              "      fill: #D2E3FC;\n",
              "    }\n",
              "\n",
              "    [theme=dark] .colab-df-convert:hover {\n",
              "      background-color: #434B5C;\n",
              "      box-shadow: 0px 1px 3px 1px rgba(0, 0, 0, 0.15);\n",
              "      filter: drop-shadow(0px 1px 2px rgba(0, 0, 0, 0.3));\n",
              "      fill: #FFFFFF;\n",
              "    }\n",
              "  </style>\n",
              "\n",
              "      <script>\n",
              "        const buttonEl =\n",
              "          document.querySelector('#df-3d69c103-33e4-4e7b-960a-2dc7ae9d85f7 button.colab-df-convert');\n",
              "        buttonEl.style.display =\n",
              "          google.colab.kernel.accessAllowed ? 'block' : 'none';\n",
              "\n",
              "        async function convertToInteractive(key) {\n",
              "          const element = document.querySelector('#df-3d69c103-33e4-4e7b-960a-2dc7ae9d85f7');\n",
              "          const dataTable =\n",
              "            await google.colab.kernel.invokeFunction('convertToInteractive',\n",
              "                                                     [key], {});\n",
              "          if (!dataTable) return;\n",
              "\n",
              "          const docLinkHtml = 'Like what you see? Visit the ' +\n",
              "            '<a target=\"_blank\" href=https://colab.research.google.com/notebooks/data_table.ipynb>data table notebook</a>'\n",
              "            + ' to learn more about interactive tables.';\n",
              "          element.innerHTML = '';\n",
              "          dataTable['output_type'] = 'display_data';\n",
              "          await google.colab.output.renderOutput(dataTable, element);\n",
              "          const docLink = document.createElement('div');\n",
              "          docLink.innerHTML = docLinkHtml;\n",
              "          element.appendChild(docLink);\n",
              "        }\n",
              "      </script>\n",
              "    </div>\n",
              "  </div>\n",
              "  "
            ]
          },
          "metadata": {},
          "execution_count": 321
        }
      ]
    },
    {
      "cell_type": "markdown",
      "metadata": {
        "id": "aPTJWVhwnqSe"
      },
      "source": [
        "**Feature Scaling**"
      ]
    },
    {
      "cell_type": "code",
      "source": [
        "sc = StandardScaler()\n",
        "X_res = sc.fit_transform(X_res)\n",
        "X_res"
      ],
      "metadata": {
        "id": "DljgFi_GeE6x",
        "colab": {
          "base_uri": "https://localhost:8080/"
        },
        "outputId": "252c7f6a-9aa4-4cc6-ed1e-7cdaece6473b"
      },
      "execution_count": 322,
      "outputs": [
        {
          "output_type": "execute_result",
          "data": {
            "text/plain": [
              "array([[ 0.5222985 ,  0.75738379,  0.06856627, ...,  0.13885322,\n",
              "         0.53024637,  1.39421748],\n",
              "       [-0.90163416, -1.27864843, -0.34614907, ..., -0.8730911 ,\n",
              "        -0.40560219, -0.26655379],\n",
              "       [ 1.09187157,  1.8885128 , -0.48438752, ..., -1.35015057,\n",
              "         0.68283038, -0.17914477],\n",
              "       ...,\n",
              "       [-0.90163416,  0.78970176, -0.20791063, ..., -0.48276972,\n",
              "        -0.4123837 ,  0.69494537],\n",
              "       [ 2.6581975 , -0.79387886,  0.48328161, ...,  0.57254364,\n",
              "        -0.1987661 ,  1.04458143],\n",
              "       [ 1.3766581 ,  0.88665567,  0.48328161, ...,  0.2255913 ,\n",
              "         1.43218738, -0.09173576]])"
            ]
          },
          "metadata": {},
          "execution_count": 322
        }
      ]
    },
    {
      "cell_type": "markdown",
      "metadata": {
        "id": "cnO9JTj0dumO"
      },
      "source": [
        "**Training and Testing using K-Fold Cross Validation**"
      ]
    },
    {
      "cell_type": "markdown",
      "source": [
        "**Logistic Regression**"
      ],
      "metadata": {
        "id": "Fzhsf5sDH0hj"
      }
    },
    {
      "cell_type": "code",
      "source": [
        "from sklearn.linear_model import LogisticRegression\n",
        "classifier = LogisticRegression(random_state = 0)\n",
        "\n",
        "stratifiedkf=StratifiedKFold(n_splits=10)\n",
        "score1=cross_val_score(classifier,X_res,y_res,cv=stratifiedkf)\n",
        "\n",
        "print(\"Cross Validation Scores are {}\".format(score1))\n",
        "print(\"Average Cross Validation score :{}\".format(score1.mean()))\n",
        "accuracy1=score1.mean()\n",
        "#print(accuracy1)"
      ],
      "metadata": {
        "colab": {
          "base_uri": "https://localhost:8080/"
        },
        "id": "d6H7cO-VID-T",
        "outputId": "ba95f7bb-bc16-487b-d37b-cca27b1fa65e"
      },
      "execution_count": 323,
      "outputs": [
        {
          "output_type": "stream",
          "name": "stdout",
          "text": [
            "Cross Validation Scores are [0.72 0.8  0.7  0.69 0.79 0.69 0.77 0.77 0.76 0.74]\n",
            "Average Cross Validation score :0.743\n"
          ]
        }
      ]
    },
    {
      "cell_type": "code",
      "source": [
        "pltacc1=np.asarray(score1)\n",
        "rangevalue=np.array([1,2,3,4,5,6,7,8,9,10])\n",
        "plt.figure(figsize=(8, 4))\n",
        "plt.plot(rangevalue, pltacc1, color='green', linestyle='dashed', marker='o',\n",
        "         markerfacecolor='blue', markersize=10)\n",
        "plt.title('Logistic Regression Accuracy for 10 Folds')\n",
        "plt.xlabel('K-Folds')\n",
        "plt.ylabel('Accuracy Rate')"
      ],
      "metadata": {
        "colab": {
          "base_uri": "https://localhost:8080/",
          "height": 312
        },
        "id": "h6dxkz0ZJMY7",
        "outputId": "458cd5c0-89b7-4566-c56e-da0f32a1c6b3"
      },
      "execution_count": 324,
      "outputs": [
        {
          "output_type": "execute_result",
          "data": {
            "text/plain": [
              "Text(0, 0.5, 'Accuracy Rate')"
            ]
          },
          "metadata": {},
          "execution_count": 324
        },
        {
          "output_type": "display_data",
          "data": {
            "text/plain": [
              "<Figure size 576x288 with 1 Axes>"
            ],
            "image/png": "[encoded data removed]"
          },
          "metadata": {
            "needs_background": "light"
          }
        }
      ]
    },
    {
      "cell_type": "markdown",
      "source": [
        "**SVM**"
      ],
      "metadata": {
        "id": "JDwnw1R3I-xn"
      }
    },
    {
      "cell_type": "code",
      "source": [
        "from sklearn.svm import SVC\n",
        "classifier = SVC()\n",
        "\n",
        "stratifiedkf=StratifiedKFold(n_splits=10)\n",
        "score2=cross_val_score(classifier,X_res,y_res,cv=stratifiedkf)\n",
        "\n",
        "print(\"Cross Validation Scores are {}\".format(score2))\n",
        "print(\"Average Cross Validation score :{}\".format(score2.mean()))\n",
        "accuracy2=score2.mean()\n",
        "#print(accuracy2)"
      ],
      "metadata": {
        "colab": {
          "base_uri": "https://localhost:8080/"
        },
        "id": "zZkBVUz2JeRL",
        "outputId": "ac1a80da-76fc-4132-b97e-ef0e24e0f8d5"
      },
      "execution_count": 325,
      "outputs": [
        {
          "output_type": "stream",
          "name": "stdout",
          "text": [
            "Cross Validation Scores are [0.7  0.85 0.72 0.7  0.83 0.76 0.84 0.85 0.83 0.82]\n",
            "Average Cross Validation score :0.79\n"
          ]
        }
      ]
    },
    {
      "cell_type": "code",
      "source": [
        "from sklearn.svm import SVC\n",
        "from sklearn.model_selection import GridSearchCV\n",
        "classifier = SVC()\n",
        "\n",
        "param_grid_svc = {'C':[0.001, 0.01, 0.1, 0.5, 1],'gamma':['scale', 'auto']}\n",
        "grid_svc_model = GridSearchCV(classifier, param_grid=param_grid_svc)\n",
        "\n",
        "stratifiedkf=StratifiedKFold(n_splits=10)\n",
        "score2=cross_val_score(grid_svc_model,X_res,y_res,cv=stratifiedkf)\n",
        "\n",
        "print(\"Cross Validation Scores are {}\".format(score2))\n",
        "print(\"Average Cross Validation score :{}\".format(score2.mean()))\n",
        "accuracy2=score2.mean()\n",
        "#print(accuracy2)"
      ],
      "metadata": {
        "colab": {
          "base_uri": "https://localhost:8080/"
        },
        "id": "AO5-8UagZnAs",
        "outputId": "8d6abc3a-c60a-42e5-ecf3-0fdad8af942e"
      },
      "execution_count": 326,
      "outputs": [
        {
          "output_type": "stream",
          "name": "stdout",
          "text": [
            "Cross Validation Scores are [0.7  0.85 0.72 0.7  0.83 0.76 0.84 0.85 0.83 0.82]\n",
            "Average Cross Validation score :0.79\n"
          ]
        }
      ]
    },
    {
      "cell_type": "code",
      "source": [
        "pltacc2=np.asarray(score2)\n",
        "rangevalue=np.array([1,2,3,4,5,6,7,8,9,10])\n",
        "plt.figure(figsize=(8, 4))\n",
        "plt.plot(rangevalue, pltacc2, color='green', linestyle='dashed', marker='o',\n",
        "         markerfacecolor='blue', markersize=10)\n",
        "plt.title('SVM Accuracy for 10 Folds')\n",
        "plt.xlabel('K-Folds')\n",
        "plt.ylabel('Accuracy Rate')"
      ],
      "metadata": {
        "colab": {
          "base_uri": "https://localhost:8080/",
          "height": 312
        },
        "id": "Yv0CkG_gJiPM",
        "outputId": "2173ffba-8389-4ce6-fa98-ac15c87c7969"
      },
      "execution_count": 327,
      "outputs": [
        {
          "output_type": "execute_result",
          "data": {
            "text/plain": [
              "Text(0, 0.5, 'Accuracy Rate')"
            ]
          },
          "metadata": {},
          "execution_count": 327
        },
        {
          "output_type": "display_data",
          "data": {
            "text/plain": [
              "<Figure size 576x288 with 1 Axes>"
            ],
            "image/png": "[encoded data removed]"
          },
          "metadata": {
            "needs_background": "light"
          }
        }
      ]
    },
    {
      "cell_type": "markdown",
      "source": [
        "**KNN**"
      ],
      "metadata": {
        "id": "kgAplTE_JlIe"
      }
    },
    {
      "cell_type": "code",
      "source": [
        "from sklearn.neighbors import KNeighborsClassifier\n",
        "classifier = KNeighborsClassifier(n_neighbors = 1, metric = 'minkowski', p = 2)\n",
        "\n",
        "stratifiedkf=StratifiedKFold(n_splits=10)\n",
        "score3=cross_val_score(classifier,X_res,y_res,cv=stratifiedkf)\n",
        "\n",
        "print(\"Cross Validation Scores are {}\".format(score3))\n",
        "print(\"Average Cross Validation score :{}\".format(score3.mean()))\n",
        "accuracy3=score3.mean()\n",
        "#print(accuracy3)"
      ],
      "metadata": {
        "colab": {
          "base_uri": "https://localhost:8080/"
        },
        "id": "SfhMZG5dJof9",
        "outputId": "dcba5461-1c54-48a6-8175-3b2d33539445"
      },
      "execution_count": 328,
      "outputs": [
        {
          "output_type": "stream",
          "name": "stdout",
          "text": [
            "Cross Validation Scores are [0.8  0.87 0.8  0.78 0.81 0.87 0.88 0.91 0.87 0.92]\n",
            "Average Cross Validation score :0.8510000000000002\n"
          ]
        }
      ]
    },
    {
      "cell_type": "code",
      "source": [
        "pltacc3=np.asarray(score3)\n",
        "rangevalue=np.array([1,2,3,4,5,6,7,8,9,10])\n",
        "plt.figure(figsize=(8, 4))\n",
        "plt.plot(rangevalue, pltacc3, color='green', linestyle='dashed', marker='o',\n",
        "         markerfacecolor='blue', markersize=10)\n",
        "plt.title('KNN Accuracy for 10 Folds')\n",
        "plt.xlabel('K-Folds')\n",
        "plt.ylabel('Accuracy Rate')"
      ],
      "metadata": {
        "colab": {
          "base_uri": "https://localhost:8080/",
          "height": 312
        },
        "id": "trraaz13JvY7",
        "outputId": "6422ddc6-e38a-49d7-ec13-d2f9a40744ab"
      },
      "execution_count": 329,
      "outputs": [
        {
          "output_type": "execute_result",
          "data": {
            "text/plain": [
              "Text(0, 0.5, 'Accuracy Rate')"
            ]
          },
          "metadata": {},
          "execution_count": 329
        },
        {
          "output_type": "display_data",
          "data": {
            "text/plain": [
              "<Figure size 576x288 with 1 Axes>"
            ],
            "image/png": "[encoded data removed]"
          },
          "metadata": {
            "needs_background": "light"
          }
        }
      ]
    },
    {
      "cell_type": "markdown",
      "source": [
        "**Naive Bayes**"
      ],
      "metadata": {
        "id": "LjprPYzaJwO3"
      }
    },
    {
      "cell_type": "code",
      "source": [
        "from sklearn.naive_bayes import BernoulliNB\n",
        "classifier = BernoulliNB()\n",
        "\n",
        "stratifiedkf=StratifiedKFold(n_splits=10)\n",
        "score4=cross_val_score(classifier,X_res,y_res,cv=stratifiedkf)\n",
        "\n",
        "print(\"Cross Validation Scores are {}\".format(score4))\n",
        "print(\"Average Cross Validation score :{}\".format(score4.mean()))\n",
        "accuracy4=score4.mean()\n",
        "#print(accuracy4)"
      ],
      "metadata": {
        "colab": {
          "base_uri": "https://localhost:8080/"
        },
        "id": "HsqdG6_nJ7OQ",
        "outputId": "7602d2cb-eacc-4eb1-d23b-3bf46f54082b"
      },
      "execution_count": 330,
      "outputs": [
        {
          "output_type": "stream",
          "name": "stdout",
          "text": [
            "Cross Validation Scores are [0.65 0.7  0.66 0.66 0.75 0.69 0.71 0.73 0.71 0.66]\n",
            "Average Cross Validation score :0.692\n"
          ]
        }
      ]
    },
    {
      "cell_type": "code",
      "source": [
        "pltacc4=np.asarray(score4)\n",
        "rangevalue=np.array([1,2,3,4,5,6,7,8,9,10])\n",
        "plt.figure(figsize=(8, 4))\n",
        "plt.plot(rangevalue, pltacc4, color='green', linestyle='dashed', marker='o',\n",
        "         markerfacecolor='blue', markersize=10)\n",
        "plt.title('Naive Bayes Accuracy for 10 Folds')\n",
        "plt.xlabel('K-Folds')\n",
        "plt.ylabel('Accuracy Rate')"
      ],
      "metadata": {
        "colab": {
          "base_uri": "https://localhost:8080/",
          "height": 312
        },
        "id": "OBn8U_BVJ758",
        "outputId": "3c4d1d73-1a69-44ba-af9b-ef865ac9531f"
      },
      "execution_count": 331,
      "outputs": [
        {
          "output_type": "execute_result",
          "data": {
            "text/plain": [
              "Text(0, 0.5, 'Accuracy Rate')"
            ]
          },
          "metadata": {},
          "execution_count": 331
        },
        {
          "output_type": "display_data",
          "data": {
            "text/plain": [
              "<Figure size 576x288 with 1 Axes>"
            ],
            "image/png": "[encoded data removed]"
          },
          "metadata": {
            "needs_background": "light"
          }
        }
      ]
    },
    {
      "cell_type": "markdown",
      "metadata": {
        "id": "u-BmklNRtRar"
      },
      "source": [
        "**Decision Tree**"
      ]
    },
    {
      "cell_type": "code",
      "execution_count": 332,
      "metadata": {
        "colab": {
          "base_uri": "https://localhost:8080/"
        },
        "id": "9ZljDouatEV4",
        "outputId": "f325c057-685e-4b42-984e-41e6c486d179"
      },
      "outputs": [
        {
          "output_type": "stream",
          "name": "stdout",
          "text": [
            "Cross Validation Scores are [0.79 0.84 0.77 0.72 0.8  0.89 0.93 0.87 0.88 0.92]\n",
            "Average Cross Validation score :0.841\n"
          ]
        }
      ],
      "source": [
        "from sklearn.tree import DecisionTreeClassifier\n",
        "classifier = DecisionTreeClassifier(criterion = 'gini', random_state = 0, max_depth=25)\n",
        "\n",
        "stratifiedkf=StratifiedKFold(n_splits=10)\n",
        "score5=cross_val_score(classifier,X_res,y_res,cv=stratifiedkf)\n",
        "\n",
        "print(\"Cross Validation Scores are {}\".format(score5))\n",
        "print(\"Average Cross Validation score :{}\".format(score5.mean()))\n",
        "accuracy5=score5.mean()\n",
        "#print(accuracy5)"
      ]
    },
    {
      "cell_type": "code",
      "source": [
        "pltacc5=np.asarray(score5)\n",
        "rangevalue=np.array([1,2,3,4,5,6,7,8,9,10])\n",
        "plt.figure(figsize=(8, 4))\n",
        "plt.plot(rangevalue, pltacc5, color='green', linestyle='dashed', marker='o',\n",
        "         markerfacecolor='blue', markersize=10)\n",
        "plt.title('Decision Tree Accuracy for 10 Folds')\n",
        "plt.xlabel('K-Folds')\n",
        "plt.ylabel('Accuracy Rate')"
      ],
      "metadata": {
        "colab": {
          "base_uri": "https://localhost:8080/",
          "height": 312
        },
        "id": "r4phcUvjSjq8",
        "outputId": "d861478f-4386-4eb1-aae9-8018cc99d6b8"
      },
      "execution_count": 333,
      "outputs": [
        {
          "output_type": "execute_result",
          "data": {
            "text/plain": [
              "Text(0, 0.5, 'Accuracy Rate')"
            ]
          },
          "metadata": {},
          "execution_count": 333
        },
        {
          "output_type": "display_data",
          "data": {
            "text/plain": [
              "<Figure size 576x288 with 1 Axes>"
            ],
            "image/png": "[encoded data removed]"
          },
          "metadata": {
            "needs_background": "light"
          }
        }
      ]
    },
    {
      "cell_type": "code",
      "source": [
        "from sklearn.ensemble import GradientBoostingClassifier\n",
        "classifier = GradientBoostingClassifier()\n",
        "\n",
        "stratifiedkf=StratifiedKFold(n_splits=10)\n",
        "score6=cross_val_score(classifier,X_res,y_res,cv=stratifiedkf)\n",
        "\n",
        "print(\"Cross Validation Scores are {}\".format(score6))\n",
        "print(\"Average Cross Validation score :{}\".format(score6.mean()))\n",
        "accuracy6=score6.mean()\n",
        "#print(accuracy6)"
      ],
      "metadata": {
        "colab": {
          "base_uri": "https://localhost:8080/"
        },
        "id": "rYczPIsJIrxb",
        "outputId": "41a2ec87-64c3-441b-94d0-1f0333fbaab0"
      },
      "execution_count": 334,
      "outputs": [
        {
          "output_type": "stream",
          "name": "stdout",
          "text": [
            "Cross Validation Scores are [0.73 0.86 0.75 0.73 0.88 0.79 0.9  0.85 0.83 0.86]\n",
            "Average Cross Validation score :0.818\n"
          ]
        }
      ]
    },
    {
      "cell_type": "markdown",
      "source": [
        "**Random Forest**"
      ],
      "metadata": {
        "id": "DKUXNsfZARAo"
      }
    },
    {
      "cell_type": "code",
      "source": [
        "from sklearn.ensemble import RandomForestClassifier\n",
        "classifier = RandomForestClassifier(n_estimators=100)\n",
        "\n",
        "stratifiedkf=StratifiedKFold(n_splits=10)\n",
        "score6=cross_val_score(classifier,X_res,y_res,cv=stratifiedkf)\n",
        "\n",
        "print(\"Cross Validation Scores are {}\".format(score6))\n",
        "print(\"Average Cross Validation score :{}\".format(score6.mean()))\n",
        "accuracy6=score6.mean()\n",
        "#print(accuracy6)"
      ],
      "metadata": {
        "colab": {
          "base_uri": "https://localhost:8080/"
        },
        "id": "Hyrew5mBAgrV",
        "outputId": "b082518e-f494-44fd-c436-2c262dafd443"
      },
      "execution_count": 371,
      "outputs": [
        {
          "output_type": "stream",
          "name": "stdout",
          "text": [
            "Cross Validation Scores are [0.81 0.9  0.78 0.75 0.89 0.89 0.95 0.95 0.89 0.91]\n",
            "Average Cross Validation score :0.8719999999999999\n"
          ]
        }
      ]
    },
    {
      "cell_type": "code",
      "source": [
        "pltacc6=np.asarray(score6)\n",
        "rangevalue=np.array([1,2,3,4,5,6,7,8,9,10])\n",
        "plt.figure(figsize=(8, 4))\n",
        "plt.plot(rangevalue, pltacc6, color='green', linestyle='dashed', marker='o',\n",
        "         markerfacecolor='blue', markersize=10)\n",
        "plt.title('Random Forest Accuracy for 10 Folds')\n",
        "plt.xlabel('K-Folds')\n",
        "plt.ylabel('Accuracy Rate')"
      ],
      "metadata": {
        "colab": {
          "base_uri": "https://localhost:8080/",
          "height": 312
        },
        "id": "aBWDfCsuCbep",
        "outputId": "5fbe3a45-d2a9-45d9-b2da-1ddc3b41ea25"
      },
      "execution_count": 336,
      "outputs": [
        {
          "output_type": "execute_result",
          "data": {
            "text/plain": [
              "Text(0, 0.5, 'Accuracy Rate')"
            ]
          },
          "metadata": {},
          "execution_count": 336
        },
        {
          "output_type": "display_data",
          "data": {
            "text/plain": [
              "<Figure size 576x288 with 1 Axes>"
            ],
            "image/png": "[encoded data removed]"
          },
          "metadata": {
            "needs_background": "light"
          }
        }
      ]
    },
    {
      "cell_type": "markdown",
      "source": [
        "**Ensemble Method (3 Folds)**"
      ],
      "metadata": {
        "id": "pdSfGMUd-D3g"
      }
    },
    {
      "cell_type": "code",
      "source": [
        "# Training classifiers\n",
        "from sklearn.tree import DecisionTreeClassifier\n",
        "from sklearn.neighbors import KNeighborsClassifier\n",
        "clf1 = DecisionTreeClassifier(max_depth=25)\n",
        "clf2 = KNeighborsClassifier(n_neighbors=1)\n",
        "eclf = VotingClassifier(estimators=[('DT', clf1), ('KNN', clf2)], voting='hard')\n",
        "\n",
        "stratifiedkf=StratifiedKFold(n_splits=3)\n",
        "score73=cross_val_score(eclf,X_res,y_res,cv=stratifiedkf)\n",
        "\n",
        "print(\"Cross Validation Scores are {}\".format(score73))\n",
        "print(\"Average Cross Validation score :{}\".format(score73.mean()))\n",
        "accuracy73=score73.mean()\n",
        "#print(accuracy73)"
      ],
      "metadata": {
        "colab": {
          "base_uri": "https://localhost:8080/"
        },
        "id": "ScUUGy3i-IwN",
        "outputId": "8debb317-980b-4e6e-b1da-00282ac9fa60"
      },
      "execution_count": 372,
      "outputs": [
        {
          "output_type": "stream",
          "name": "stdout",
          "text": [
            "Cross Validation Scores are [0.79041916 0.78978979 0.95795796]\n",
            "Average Cross Validation score :0.8460556364747981\n"
          ]
        }
      ]
    },
    {
      "cell_type": "markdown",
      "source": [
        "**Ensemble Method (5 Folds)**"
      ],
      "metadata": {
        "id": "71ewkqTRq9H3"
      }
    },
    {
      "cell_type": "code",
      "source": [
        "# Training classifiers\n",
        "from sklearn.tree import DecisionTreeClassifier\n",
        "from sklearn.neighbors import KNeighborsClassifier\n",
        "from sklearn.linear_model import LogisticRegression\n",
        "clf1 = DecisionTreeClassifier(max_depth=25)\n",
        "clf2 = KNeighborsClassifier(n_neighbors=1)\n",
        "clf3 = LogisticRegression(random_state = 0)\n",
        "eclf = VotingClassifier(estimators=[('DT', clf1), ('KNN', clf2)], voting='hard')\n",
        "\n",
        "stratifiedkf=StratifiedKFold(n_splits=5)\n",
        "score75=cross_val_score(eclf,X_res,y_res,cv=stratifiedkf)\n",
        "\n",
        "print(\"Cross Validation Scores are {}\".format(score75))\n",
        "print(\"Average Cross Validation score :{}\".format(score75.mean()))\n",
        "accuracy75=score75.mean()\n",
        "#print(accuracy75)"
      ],
      "metadata": {
        "colab": {
          "base_uri": "https://localhost:8080/"
        },
        "id": "_DgyMyVJncK5",
        "outputId": "fdccf009-3e3b-4eb8-ef06-0b989fa6423b"
      },
      "execution_count": 373,
      "outputs": [
        {
          "output_type": "stream",
          "name": "stdout",
          "text": [
            "Cross Validation Scores are [0.84  0.745 0.88  0.95  0.955]\n",
            "Average Cross Validation score :0.874\n"
          ]
        }
      ]
    },
    {
      "cell_type": "markdown",
      "source": [
        "**Ensemble Method (7 Folds)**"
      ],
      "metadata": {
        "id": "7TA-ujS6-raW"
      }
    },
    {
      "cell_type": "code",
      "source": [
        "# Training classifiers\n",
        "from sklearn.tree import DecisionTreeClassifier\n",
        "from sklearn.neighbors import KNeighborsClassifier\n",
        "from sklearn.linear_model import LogisticRegression\n",
        "clf1 = DecisionTreeClassifier(max_depth=25)\n",
        "clf2 = KNeighborsClassifier(n_neighbors=1)\n",
        "clf3 = LogisticRegression(random_state = 0)\n",
        "eclf = VotingClassifier(estimators=[('DT', clf1), ('KNN', clf2)], voting='hard')\n",
        "\n",
        "stratifiedkf=StratifiedKFold(n_splits=7)\n",
        "score77=cross_val_score(eclf,X_res,y_res,cv=stratifiedkf)\n",
        "\n",
        "print(\"Cross Validation Scores are {}\".format(score77))\n",
        "print(\"Average Cross Validation score :{}\".format(score77.mean()))\n",
        "accuracy77=score77.mean()\n",
        "#print(accuracy77)"
      ],
      "metadata": {
        "colab": {
          "base_uri": "https://localhost:8080/"
        },
        "id": "reLtNV26-uwa",
        "outputId": "eb0a30b2-764b-441f-b895-ab27b55167db"
      },
      "execution_count": 374,
      "outputs": [
        {
          "output_type": "stream",
          "name": "stdout",
          "text": [
            "Cross Validation Scores are [0.81818182 0.79020979 0.81818182 0.86713287 0.91608392 0.97902098\n",
            " 0.95070423]\n",
            "Average Cross Validation score :0.8770736305947574\n"
          ]
        }
      ]
    },
    {
      "cell_type": "markdown",
      "source": [
        "**Ensemble Method (10 Folds)**"
      ],
      "metadata": {
        "id": "DxfJY1UVdm5b"
      }
    },
    {
      "cell_type": "code",
      "source": [
        "# Training classifiers\n",
        "from sklearn.tree import DecisionTreeClassifier\n",
        "from sklearn.neighbors import KNeighborsClassifier\n",
        "from sklearn.linear_model import LogisticRegression\n",
        "clf1 = DecisionTreeClassifier(max_depth=25)\n",
        "clf2 = KNeighborsClassifier(n_neighbors=1)\n",
        "clf3 = LogisticRegression(random_state = 0)\n",
        "eclf = VotingClassifier(estimators=[('DT', clf1), ('KNN', clf2)], voting='hard')\n",
        "\n",
        "stratifiedkf=StratifiedKFold(n_splits=10)\n",
        "score710=cross_val_score(eclf,X_res,y_res,cv=stratifiedkf)\n",
        "\n",
        "print(\"Cross Validation Scores are {}\".format(score710))\n",
        "print(\"Average Cross Validation score :{}\".format(score710.mean()))\n",
        "accuracy710=score710.mean()\n",
        "#print(accuracy710)"
      ],
      "metadata": {
        "colab": {
          "base_uri": "https://localhost:8080/"
        },
        "id": "LNeQ0g1faOXj",
        "outputId": "4374d530-5059-4eaf-e44c-5e3db2c19271"
      },
      "execution_count": 375,
      "outputs": [
        {
          "output_type": "stream",
          "name": "stdout",
          "text": [
            "Cross Validation Scores are [0.8  0.88 0.77 0.75 0.84 0.94 0.97 0.95 0.92 0.99]\n",
            "Average Cross Validation score :0.881\n"
          ]
        }
      ]
    },
    {
      "cell_type": "code",
      "source": [
        "pltacc710=np.asarray(score710)\n",
        "rangevalue=np.array([1,2,3,4,5,6,7,8,9,10])\n",
        "plt.figure(figsize=(8, 4))\n",
        "plt.plot(rangevalue, pltacc710, color='green', linestyle='dashed', marker='o',\n",
        "         markerfacecolor='blue', markersize=10)\n",
        "plt.title('Ensemble Accuracy for 10 Folds')\n",
        "plt.xlabel('K-Folds')\n",
        "plt.ylabel('Accuracy Rate')"
      ],
      "metadata": {
        "colab": {
          "base_uri": "https://localhost:8080/",
          "height": 312
        },
        "id": "7Z1dSgtXeucK",
        "outputId": "0fa6ea62-d0e8-4e3d-a473-0a9a04da11ce"
      },
      "execution_count": 378,
      "outputs": [
        {
          "output_type": "execute_result",
          "data": {
            "text/plain": [
              "Text(0, 0.5, 'Accuracy Rate')"
            ]
          },
          "metadata": {},
          "execution_count": 378
        },
        {
          "output_type": "display_data",
          "data": {
            "text/plain": [
              "<Figure size 576x288 with 1 Axes>"
            ],
            "image/png": "[encoded data removed]"
          },
          "metadata": {}
        }
      ]
    },
    {
      "cell_type": "markdown",
      "metadata": {
        "id": "KxJ8zQMVuLrc"
      },
      "source": [
        "**Create visualization for all model with their Accuracy**"
      ]
    },
    {
      "cell_type": "code",
      "execution_count": 377,
      "metadata": {
        "colab": {
          "base_uri": "https://localhost:8080/",
          "height": 433
        },
        "id": "XzWxiZKguNCt",
        "outputId": "93ae57a5-3525-4da2-9c45-4c8941317440"
      },
      "outputs": [
        {
          "output_type": "display_data",
          "data": {
            "text/plain": [
              "<Figure size 576x432 with 1 Axes>"
            ],
            "image/png": "[encoded data removed]"
          },
          "metadata": {}
        }
      ],
      "source": [
        "mylist=[]\n",
        "mylist2=[]\n",
        "mylist.append(accuracy1)\n",
        "mylist2.append(\"Logistic Regression\")\n",
        "mylist.append(accuracy2)\n",
        "mylist2.append(\"SVM\")\n",
        "mylist.append(accuracy3)\n",
        "mylist2.append(\"KNN\")\n",
        "mylist.append(accuracy4)\n",
        "mylist2.append(\"Naive Bayes\")\n",
        "mylist.append(accuracy5)\n",
        "mylist2.append(\"DTR\")\n",
        "#mylist.append(accuracy6)\n",
        "#mylist2.append(\"Random Forest\")\n",
        "mylist.append(accuracy710)\n",
        "mylist2.append(\"Ensemble\")\n",
        "plt.rcParams['figure.figsize']=8,6\n",
        "sns.set_style(\"darkgrid\")\n",
        "ax = sns.barplot(x=mylist2, y=mylist, palette = \"rocket\", saturation =1.5)\n",
        "plt.xlabel(\"Classification Models\", fontsize = 20)\n",
        "plt.ylabel(\"Accuracy\", fontsize = 20)\n",
        "plt.title(\"Accuracy of Classification Models\", fontsize = 20)\n",
        "plt.xticks(fontsize = 11, horizontalalignment = 'center', rotation = 8)\n",
        "plt.yticks(fontsize = 13)\n",
        "for p in ax.patches:\n",
        "    width, height = p.get_width(), p.get_height()\n",
        "    x, y = p.get_xy() \n",
        "    ax.annotate(f'{height:.2%}', (x + width/2, y + height*1.02), ha='center', fontsize = 'x-large')\n",
        "plt.show()"
      ]
    }
  ],
  "metadata": {
    "colab": {
      "collapsed_sections": [],
      "name": "SQE-P2(OverSampling-CV).ipynb",
      "provenance": [],
      "include_colab_link": true
    },
    "kernelspec": {
      "display_name": "Python 3",
      "name": "python3"
    },
    "language_info": {
      "name": "python"
    }
  },
  "nbformat": 4,
  "nbformat_minor": 0
}