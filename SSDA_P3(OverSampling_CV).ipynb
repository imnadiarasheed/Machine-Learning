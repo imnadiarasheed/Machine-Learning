{
  "cells": [
    {
      "cell_type": "markdown",
      "metadata": {
        "id": "view-in-github",
        "colab_type": "text"
      },
      "source": [
        "<a href=\"https://colab.research.google.com/github/imnadiarasheed/Machine-Learning/blob/main/SSDA_P3(OverSampling_CV).ipynb\" target=\"_parent\"><img src=\"https://colab.research.google.com/assets/colab-badge.svg\" alt=\"Open In Colab\"/></a>"
      ]
    },
    {
      "cell_type": "code",
      "execution_count": null,
      "metadata": {
        "id": "uIcity3NQ1vQ"
      },
      "outputs": [],
      "source": [
        "import pandas as pd\n",
        "import numpy as np\n",
        "import matplotlib.pyplot as plt\n",
        "import seaborn as sns\n",
        "from sklearn.model_selection import train_test_split,cross_val_score,StratifiedKFold\n",
        "from sklearn.datasets import make_classification\n",
        "from sklearn.metrics import classification_report, confusion_matrix, accuracy_score\n",
        "from sklearn.feature_selection import VarianceThreshold\n",
        "from sklearn.preprocessing import StandardScaler\n",
        "import statistics\n",
        "import missingno as msno\n",
        "from imblearn.over_sampling import RandomOverSampler\n",
        "from sklearn.ensemble import VotingClassifier"
      ]
    },
    {
      "cell_type": "code",
      "source": [
        "from google.colab import drive\n",
        "drive.mount('/content/drive')"
      ],
      "metadata": {
        "id": "pO7rvlMeO7K5",
        "colab": {
          "base_uri": "https://localhost:8080/"
        },
        "outputId": "47f15e22-ed30-4f60-a513-c458fead6c50"
      },
      "execution_count": null,
      "outputs": [
        {
          "output_type": "stream",
          "name": "stdout",
          "text": [
            "Drive already mounted at /content/drive; to attempt to forcibly remount, call drive.mount(\"/content/drive\", force_remount=True).\n"
          ]
        }
      ]
    },
    {
      "cell_type": "code",
      "execution_count": null,
      "metadata": {
        "id": "shA3AlFLRD4e",
        "colab": {
          "base_uri": "https://localhost:8080/",
          "height": 557
        },
        "outputId": "8c44ef47-438c-49bb-8f62-b268dab91bc1"
      },
      "outputs": [
        {
          "output_type": "execute_result",
          "data": {
            "text/plain": [
              "         id  gender   age  hypertension  heart_disease ever_married  \\\n",
              "0      9046    Male  67.0             0              1          Yes   \n",
              "1     51676  Female  61.0             0              0          Yes   \n",
              "2     31112    Male  80.0             0              1          Yes   \n",
              "3     60182  Female  49.0             0              0          Yes   \n",
              "4      1665  Female  79.0             1              0          Yes   \n",
              "...     ...     ...   ...           ...            ...          ...   \n",
              "5105  18234  Female  80.0             1              0          Yes   \n",
              "5106  44873  Female  81.0             0              0          Yes   \n",
              "5107  19723  Female  35.0             0              0          Yes   \n",
              "5108  37544    Male  51.0             0              0          Yes   \n",
              "5109  44679  Female  44.0             0              0          Yes   \n",
              "\n",
              "          work_type Residence_type  avg_glucose_level   bmi   smoking_status  \\\n",
              "0           Private          Urban             228.69  36.6  formerly smoked   \n",
              "1     Self-employed          Rural             202.21   NaN     never smoked   \n",
              "2           Private          Rural             105.92  32.5     never smoked   \n",
              "3           Private          Urban             171.23  34.4           smokes   \n",
              "4     Self-employed          Rural             174.12  24.0     never smoked   \n",
              "...             ...            ...                ...   ...              ...   \n",
              "5105        Private          Urban              83.75   NaN     never smoked   \n",
              "5106  Self-employed          Urban             125.20  40.0     never smoked   \n",
              "5107  Self-employed          Rural              82.99  30.6     never smoked   \n",
              "5108        Private          Rural             166.29  25.6  formerly smoked   \n",
              "5109       Govt_job          Urban              85.28  26.2          Unknown   \n",
              "\n",
              "      stroke  \n",
              "0          1  \n",
              "1          1  \n",
              "2          1  \n",
              "3          1  \n",
              "4          1  \n",
              "...      ...  \n",
              "5105       0  \n",
              "5106       0  \n",
              "5107       0  \n",
              "5108       0  \n",
              "5109       0  \n",
              "\n",
              "[5110 rows x 12 columns]"
            ],
            "text/html": [
              "\n",
              "  <div id=\"df-3e6380ef-c210-4ff0-b92f-f2bcf602d2c0\">\n",
              "    <div class=\"colab-df-container\">\n",
              "      <div>\n",
              "<style scoped>\n",
              "    .dataframe tbody tr th:only-of-type {\n",
              "        vertical-align: middle;\n",
              "    }\n",
              "\n",
              "    .dataframe tbody tr th {\n",
              "        vertical-align: top;\n",
              "    }\n",
              "\n",
              "    .dataframe thead th {\n",
              "        text-align: right;\n",
              "    }\n",
              "</style>\n",
              "<table border=\"1\" class=\"dataframe\">\n",
              "  <thead>\n",
              "    <tr style=\"text-align: right;\">\n",
              "      <th></th>\n",
              "      <th>id</th>\n",
              "      <th>gender</th>\n",
              "      <th>age</th>\n",
              "      <th>hypertension</th>\n",
              "      <th>heart_disease</th>\n",
              "      <th>ever_married</th>\n",
              "      <th>work_type</th>\n",
              "      <th>Residence_type</th>\n",
              "      <th>avg_glucose_level</th>\n",
              "      <th>bmi</th>\n",
              "      <th>smoking_status</th>\n",
              "      <th>stroke</th>\n",
              "    </tr>\n",
              "  </thead>\n",
              "  <tbody>\n",
              "    <tr>\n",
              "      <th>0</th>\n",
              "      <td>9046</td>\n",
              "      <td>Male</td>\n",
              "      <td>67.0</td>\n",
              "      <td>0</td>\n",
              "      <td>1</td>\n",
              "      <td>Yes</td>\n",
              "      <td>Private</td>\n",
              "      <td>Urban</td>\n",
              "      <td>228.69</td>\n",
              "      <td>36.6</td>\n",
              "      <td>formerly smoked</td>\n",
              "      <td>1</td>\n",
              "    </tr>\n",
              "    <tr>\n",
              "      <th>1</th>\n",
              "      <td>51676</td>\n",
              "      <td>Female</td>\n",
              "      <td>61.0</td>\n",
              "      <td>0</td>\n",
              "      <td>0</td>\n",
              "      <td>Yes</td>\n",
              "      <td>Self-employed</td>\n",
              "      <td>Rural</td>\n",
              "      <td>202.21</td>\n",
              "      <td>NaN</td>\n",
              "      <td>never smoked</td>\n",
              "      <td>1</td>\n",
              "    </tr>\n",
              "    <tr>\n",
              "      <th>2</th>\n",
              "      <td>31112</td>\n",
              "      <td>Male</td>\n",
              "      <td>80.0</td>\n",
              "      <td>0</td>\n",
              "      <td>1</td>\n",
              "      <td>Yes</td>\n",
              "      <td>Private</td>\n",
              "      <td>Rural</td>\n",
              "      <td>105.92</td>\n",
              "      <td>32.5</td>\n",
              "      <td>never smoked</td>\n",
              "      <td>1</td>\n",
              "    </tr>\n",
              "    <tr>\n",
              "      <th>3</th>\n",
              "      <td>60182</td>\n",
              "      <td>Female</td>\n",
              "      <td>49.0</td>\n",
              "      <td>0</td>\n",
              "      <td>0</td>\n",
              "      <td>Yes</td>\n",
              "      <td>Private</td>\n",
              "      <td>Urban</td>\n",
              "      <td>171.23</td>\n",
              "      <td>34.4</td>\n",
              "      <td>smokes</td>\n",
              "      <td>1</td>\n",
              "    </tr>\n",
              "    <tr>\n",
              "      <th>4</th>\n",
              "      <td>1665</td>\n",
              "      <td>Female</td>\n",
              "      <td>79.0</td>\n",
              "      <td>1</td>\n",
              "      <td>0</td>\n",
              "      <td>Yes</td>\n",
              "      <td>Self-employed</td>\n",
              "      <td>Rural</td>\n",
              "      <td>174.12</td>\n",
              "      <td>24.0</td>\n",
              "      <td>never smoked</td>\n",
              "      <td>1</td>\n",
              "    </tr>\n",
              "    <tr>\n",
              "      <th>...</th>\n",
              "      <td>...</td>\n",
              "      <td>...</td>\n",
              "      <td>...</td>\n",
              "      <td>...</td>\n",
              "      <td>...</td>\n",
              "      <td>...</td>\n",
              "      <td>...</td>\n",
              "      <td>...</td>\n",
              "      <td>...</td>\n",
              "      <td>...</td>\n",
              "      <td>...</td>\n",
              "      <td>...</td>\n",
              "    </tr>\n",
              "    <tr>\n",
              "      <th>5105</th>\n",
              "      <td>18234</td>\n",
              "      <td>Female</td>\n",
              "      <td>80.0</td>\n",
              "      <td>1</td>\n",
              "      <td>0</td>\n",
              "      <td>Yes</td>\n",
              "      <td>Private</td>\n",
              "      <td>Urban</td>\n",
              "      <td>83.75</td>\n",
              "      <td>NaN</td>\n",
              "      <td>never smoked</td>\n",
              "      <td>0</td>\n",
              "    </tr>\n",
              "    <tr>\n",
              "      <th>5106</th>\n",
              "      <td>44873</td>\n",
              "      <td>Female</td>\n",
              "      <td>81.0</td>\n",
              "      <td>0</td>\n",
              "      <td>0</td>\n",
              "      <td>Yes</td>\n",
              "      <td>Self-employed</td>\n",
              "      <td>Urban</td>\n",
              "      <td>125.20</td>\n",
              "      <td>40.0</td>\n",
              "      <td>never smoked</td>\n",
              "      <td>0</td>\n",
              "    </tr>\n",
              "    <tr>\n",
              "      <th>5107</th>\n",
              "      <td>19723</td>\n",
              "      <td>Female</td>\n",
              "      <td>35.0</td>\n",
              "      <td>0</td>\n",
              "      <td>0</td>\n",
              "      <td>Yes</td>\n",
              "      <td>Self-employed</td>\n",
              "      <td>Rural</td>\n",
              "      <td>82.99</td>\n",
              "      <td>30.6</td>\n",
              "      <td>never smoked</td>\n",
              "      <td>0</td>\n",
              "    </tr>\n",
              "    <tr>\n",
              "      <th>5108</th>\n",
              "      <td>37544</td>\n",
              "      <td>Male</td>\n",
              "      <td>51.0</td>\n",
              "      <td>0</td>\n",
              "      <td>0</td>\n",
              "      <td>Yes</td>\n",
              "      <td>Private</td>\n",
              "      <td>Rural</td>\n",
              "      <td>166.29</td>\n",
              "      <td>25.6</td>\n",
              "      <td>formerly smoked</td>\n",
              "      <td>0</td>\n",
              "    </tr>\n",
              "    <tr>\n",
              "      <th>5109</th>\n",
              "      <td>44679</td>\n",
              "      <td>Female</td>\n",
              "      <td>44.0</td>\n",
              "      <td>0</td>\n",
              "      <td>0</td>\n",
              "      <td>Yes</td>\n",
              "      <td>Govt_job</td>\n",
              "      <td>Urban</td>\n",
              "      <td>85.28</td>\n",
              "      <td>26.2</td>\n",
              "      <td>Unknown</td>\n",
              "      <td>0</td>\n",
              "    </tr>\n",
              "  </tbody>\n",
              "</table>\n",
              "<p>5110 rows × 12 columns</p>\n",
              "</div>\n",
              "      <button class=\"colab-df-convert\" onclick=\"convertToInteractive('df-3e6380ef-c210-4ff0-b92f-f2bcf602d2c0')\"\n",
              "              title=\"Convert this dataframe to an interactive table.\"\n",
              "              style=\"display:none;\">\n",
              "        \n",
              "  <svg xmlns=\"http://www.w3.org/2000/svg\" height=\"24px\"viewBox=\"0 0 24 24\"\n",
              "       width=\"24px\">\n",
              "    <path d=\"M0 0h24v24H0V0z\" fill=\"none\"/>\n",
              "    <path d=\"M18.56 5.44l.94 2.06.94-2.06 2.06-.94-2.06-.94-.94-2.06-.94 2.06-2.06.94zm-11 1L8.5 8.5l.94-2.06 2.06-.94-2.06-.94L8.5 2.5l-.94 2.06-2.06.94zm10 10l.94 2.06.94-2.06 2.06-.94-2.06-.94-.94-2.06-.94 2.06-2.06.94z\"/><path d=\"M17.41 7.96l-1.37-1.37c-.4-.4-.92-.59-1.43-.59-.52 0-1.04.2-1.43.59L10.3 9.45l-7.72 7.72c-.78.78-.78 2.05 0 2.83L4 21.41c.39.39.9.59 1.41.59.51 0 1.02-.2 1.41-.59l7.78-7.78 2.81-2.81c.8-.78.8-2.07 0-2.86zM5.41 20L4 18.59l7.72-7.72 1.47 1.35L5.41 20z\"/>\n",
              "  </svg>\n",
              "      </button>\n",
              "      \n",
              "  <style>\n",
              "    .colab-df-container {\n",
              "      display:flex;\n",
              "      flex-wrap:wrap;\n",
              "      gap: 12px;\n",
              "    }\n",
              "\n",
              "    .colab-df-convert {\n",
              "      background-color: #E8F0FE;\n",
              "      border: none;\n",
              "      border-radius: 50%;\n",
              "      cursor: pointer;\n",
              "      display: none;\n",
              "      fill: #1967D2;\n",
              "      height: 32px;\n",
              "      padding: 0 0 0 0;\n",
              "      width: 32px;\n",
              "    }\n",
              "\n",
              "    .colab-df-convert:hover {\n",
              "      background-color: #E2EBFA;\n",
              "      box-shadow: 0px 1px 2px rgba(60, 64, 67, 0.3), 0px 1px 3px 1px rgba(60, 64, 67, 0.15);\n",
              "      fill: #174EA6;\n",
              "    }\n",
              "\n",
              "    [theme=dark] .colab-df-convert {\n",
              "      background-color: #3B4455;\n",
              "      fill: #D2E3FC;\n",
              "    }\n",
              "\n",
              "    [theme=dark] .colab-df-convert:hover {\n",
              "      background-color: #434B5C;\n",
              "      box-shadow: 0px 1px 3px 1px rgba(0, 0, 0, 0.15);\n",
              "      filter: drop-shadow(0px 1px 2px rgba(0, 0, 0, 0.3));\n",
              "      fill: #FFFFFF;\n",
              "    }\n",
              "  </style>\n",
              "\n",
              "      <script>\n",
              "        const buttonEl =\n",
              "          document.querySelector('#df-3e6380ef-c210-4ff0-b92f-f2bcf602d2c0 button.colab-df-convert');\n",
              "        buttonEl.style.display =\n",
              "          google.colab.kernel.accessAllowed ? 'block' : 'none';\n",
              "\n",
              "        async function convertToInteractive(key) {\n",
              "          const element = document.querySelector('#df-3e6380ef-c210-4ff0-b92f-f2bcf602d2c0');\n",
              "          const dataTable =\n",
              "            await google.colab.kernel.invokeFunction('convertToInteractive',\n",
              "                                                     [key], {});\n",
              "          if (!dataTable) return;\n",
              "\n",
              "          const docLinkHtml = 'Like what you see? Visit the ' +\n",
              "            '<a target=\"_blank\" href=https://colab.research.google.com/notebooks/data_table.ipynb>data table notebook</a>'\n",
              "            + ' to learn more about interactive tables.';\n",
              "          element.innerHTML = '';\n",
              "          dataTable['output_type'] = 'display_data';\n",
              "          await google.colab.output.renderOutput(dataTable, element);\n",
              "          const docLink = document.createElement('div');\n",
              "          docLink.innerHTML = docLinkHtml;\n",
              "          element.appendChild(docLink);\n",
              "        }\n",
              "      </script>\n",
              "    </div>\n",
              "  </div>\n",
              "  "
            ]
          },
          "metadata": {},
          "execution_count": 102
        }
      ],
      "source": [
        "fulldata=pd.read_csv('drive/MyDrive/healthcare-dataset-stroke-data.csv')\n",
        "fulldata"
      ]
    },
    {
      "cell_type": "markdown",
      "metadata": {
        "id": "UmbA07a8NPdk"
      },
      "source": [
        "**Data Preprocessing**"
      ]
    },
    {
      "cell_type": "markdown",
      "source": [
        "**Outliers Detection**"
      ],
      "metadata": {
        "id": "TC3j7qmktfaC"
      }
    },
    {
      "cell_type": "code",
      "source": [
        "fig, axes = plt.subplots(1, 3, figsize=(15, 5), sharey=True)\n",
        "fig.suptitle('Variables Values Distribution')\n",
        "\n",
        "sns.boxplot(ax=axes[0], y=fulldata['age'])\n",
        "\n",
        "sns.boxplot(ax=axes[1], y=fulldata['avg_glucose_level'])\n",
        "\n",
        "sns.boxplot(ax=axes[2], y=fulldata['bmi'])"
      ],
      "metadata": {
        "colab": {
          "base_uri": "https://localhost:8080/",
          "height": 356
        },
        "id": "G383gptNtihq",
        "outputId": "d4a25139-1422-4efc-e771-c07684778247"
      },
      "execution_count": null,
      "outputs": [
        {
          "output_type": "execute_result",
          "data": {
            "text/plain": [
              "<matplotlib.axes._subplots.AxesSubplot at 0x7f0100e25610>"
            ]
          },
          "metadata": {},
          "execution_count": 103
        },
        {
          "output_type": "display_data",
          "data": {
            "text/plain": [
              "<Figure size 1080x360 with 3 Axes>"
            ],
            "image/png": "[encoded data removed]"
          },
          "metadata": {}
        }
      ]
    },
    {
      "cell_type": "markdown",
      "source": [
        "**Outliers Removal**"
      ],
      "metadata": {
        "id": "hV1X6vwlt8g-"
      }
    },
    {
      "cell_type": "code",
      "source": [
        "glucose_q3 = fulldata[\"avg_glucose_level\"].quantile(0.75)  \n",
        "glucose_q1 = fulldata[\"avg_glucose_level\"].quantile(0.25)\n",
        "print(glucose_q3), print(glucose_q1)\n",
        "\n",
        "glucose_IQR = glucose_q3 - glucose_q1\n",
        "glucose_low_limit = glucose_q1 - (glucose_IQR * 1.5)\n",
        "glucose_upp_limit = glucose_q3 + (glucose_IQR * 1.5)\n",
        "\n",
        "print(glucose_IQR), print(glucose_low_limit), print(glucose_upp_limit)\n",
        "fulldata['avg_glucose_level'].max(), fulldata['avg_glucose_level'].min()"
      ],
      "metadata": {
        "colab": {
          "base_uri": "https://localhost:8080/"
        },
        "id": "jZMjx-yNt9tb",
        "outputId": "91784125-e606-4ed2-82f0-0919c982097c"
      },
      "execution_count": null,
      "outputs": [
        {
          "output_type": "stream",
          "name": "stdout",
          "text": [
            "114.09\n",
            "77.245\n",
            "36.845\n",
            "21.977500000000006\n",
            "169.35750000000002\n"
          ]
        },
        {
          "output_type": "execute_result",
          "data": {
            "text/plain": [
              "(271.74, 55.12)"
            ]
          },
          "metadata": {},
          "execution_count": 104
        }
      ]
    },
    {
      "cell_type": "code",
      "source": [
        "fulldata.loc[fulldata['avg_glucose_level'] > glucose_upp_limit, 'avg_glucose_level'] = glucose_upp_limit\n",
        "fulldata.loc[fulldata['avg_glucose_level'] < glucose_low_limit, 'avg_glucose_level'] = glucose_low_limit\n",
        "fulldata['avg_glucose_level'].max(), fulldata['avg_glucose_level'].min()"
      ],
      "metadata": {
        "colab": {
          "base_uri": "https://localhost:8080/"
        },
        "id": "sQXBcNrCuDEX",
        "outputId": "9add550e-92c1-4012-e43c-5fd6c2f9f731"
      },
      "execution_count": null,
      "outputs": [
        {
          "output_type": "execute_result",
          "data": {
            "text/plain": [
              "(169.35750000000002, 55.12)"
            ]
          },
          "metadata": {},
          "execution_count": 105
        }
      ]
    },
    {
      "cell_type": "code",
      "source": [
        "bmi_q3 = fulldata[\"bmi\"].quantile(0.75)  \n",
        "bmi_q1 = fulldata[\"bmi\"].quantile(0.25)\n",
        "print(bmi_q3), print(bmi_q1)\n",
        "\n",
        "bmi_IQR = bmi_q3 - bmi_q1\n",
        "bmi_low_limit = bmi_q1 - (bmi_IQR * 1.5)\n",
        "bmi_upp_limit = bmi_q3 + (bmi_IQR * 1.5)\n",
        "\n",
        "print(bmi_IQR), print(bmi_low_limit), print(bmi_upp_limit)\n",
        "fulldata['bmi'].max(), fulldata['bmi'].min()"
      ],
      "metadata": {
        "colab": {
          "base_uri": "https://localhost:8080/"
        },
        "id": "xX_wqHvquGey",
        "outputId": "90950592-2cf4-4744-e987-0dd65a9a4309"
      },
      "execution_count": null,
      "outputs": [
        {
          "output_type": "stream",
          "name": "stdout",
          "text": [
            "33.1\n",
            "23.5\n",
            "9.600000000000001\n",
            "9.099999999999998\n",
            "47.5\n"
          ]
        },
        {
          "output_type": "execute_result",
          "data": {
            "text/plain": [
              "(97.6, 10.3)"
            ]
          },
          "metadata": {},
          "execution_count": 106
        }
      ]
    },
    {
      "cell_type": "code",
      "source": [
        "fulldata.loc[fulldata['bmi'] > bmi_upp_limit, 'bmi'] = bmi_upp_limit\n",
        "fulldata.loc[fulldata['bmi'] < bmi_low_limit, 'bmi'] = bmi_low_limit\n",
        "fulldata['bmi'].max(), fulldata['bmi'].min()"
      ],
      "metadata": {
        "colab": {
          "base_uri": "https://localhost:8080/"
        },
        "id": "VrdCP6bkuNFv",
        "outputId": "e06d13b2-e8aa-409c-9456-a7394df7e4bb"
      },
      "execution_count": null,
      "outputs": [
        {
          "output_type": "execute_result",
          "data": {
            "text/plain": [
              "(47.5, 10.3)"
            ]
          },
          "metadata": {},
          "execution_count": 107
        }
      ]
    },
    {
      "cell_type": "code",
      "source": [
        "fig, axes = plt.subplots(1, 3, figsize=(15, 5), sharey=True)\n",
        "fig.suptitle('Variables Values Distribution')\n",
        "\n",
        "sns.boxplot(ax=axes[0], y=fulldata['age'])\n",
        "\n",
        "sns.boxplot(ax=axes[1], y=fulldata['avg_glucose_level'])\n",
        "\n",
        "sns.boxplot(ax=axes[2], y=fulldata['bmi'])"
      ],
      "metadata": {
        "colab": {
          "base_uri": "https://localhost:8080/",
          "height": 356
        },
        "id": "kI-n01vnuTFh",
        "outputId": "70681984-97d0-4e25-a573-07e4a5164c89"
      },
      "execution_count": null,
      "outputs": [
        {
          "output_type": "execute_result",
          "data": {
            "text/plain": [
              "<matplotlib.axes._subplots.AxesSubplot at 0x7f0102a0ac50>"
            ]
          },
          "metadata": {},
          "execution_count": 108
        },
        {
          "output_type": "display_data",
          "data": {
            "text/plain": [
              "<Figure size 1080x360 with 3 Axes>"
            ],
            "image/png": "[encoded data removed]"
          },
          "metadata": {}
        }
      ]
    },
    {
      "cell_type": "markdown",
      "metadata": {
        "id": "okmcvklCNZBp"
      },
      "source": [
        "**Data Cleaning**"
      ]
    },
    {
      "cell_type": "code",
      "execution_count": null,
      "metadata": {
        "id": "BXBFxbmn0COF",
        "colab": {
          "base_uri": "https://localhost:8080/"
        },
        "outputId": "488f2e24-c8b2-4b10-c4f3-c09bd9df2c09"
      },
      "outputs": [
        {
          "output_type": "execute_result",
          "data": {
            "text/plain": [
              "201"
            ]
          },
          "metadata": {},
          "execution_count": 109
        }
      ],
      "source": [
        "fulldata['bmi'].isna().sum()"
      ]
    },
    {
      "cell_type": "code",
      "source": [
        "msno.matrix(fulldata)"
      ],
      "metadata": {
        "colab": {
          "base_uri": "https://localhost:8080/",
          "height": 514
        },
        "id": "0zmAm738GYHV",
        "outputId": "12536b12-44b0-473c-deef-366e124b8afc"
      },
      "execution_count": null,
      "outputs": [
        {
          "output_type": "execute_result",
          "data": {
            "text/plain": [
              "<matplotlib.axes._subplots.AxesSubplot at 0x7f0100c9e7d0>"
            ]
          },
          "metadata": {},
          "execution_count": 110
        },
        {
          "output_type": "display_data",
          "data": {
            "text/plain": [
              "<Figure size 1800x720 with 2 Axes>"
            ],
            "image/png": "[encoded data removed]"
          },
          "metadata": {}
        }
      ]
    },
    {
      "cell_type": "code",
      "source": [
        "x=fulldata['bmi'].mean()\n",
        "fulldata['bmi'].fillna(x, inplace=True)\n",
        "fulldata['bmi'].isna().sum()"
      ],
      "metadata": {
        "id": "xO8_-stxmqVC",
        "colab": {
          "base_uri": "https://localhost:8080/"
        },
        "outputId": "294d3dba-9fd3-402c-8556-060e4e10593c"
      },
      "execution_count": null,
      "outputs": [
        {
          "output_type": "execute_result",
          "data": {
            "text/plain": [
              "0"
            ]
          },
          "metadata": {},
          "execution_count": 111
        }
      ]
    },
    {
      "cell_type": "code",
      "source": [
        "msno.matrix(fulldata)"
      ],
      "metadata": {
        "colab": {
          "base_uri": "https://localhost:8080/",
          "height": 514
        },
        "id": "LnG3XdtqGecR",
        "outputId": "34899205-ab17-4787-a90c-83adf9601b87"
      },
      "execution_count": null,
      "outputs": [
        {
          "output_type": "execute_result",
          "data": {
            "text/plain": [
              "<matplotlib.axes._subplots.AxesSubplot at 0x7f0100bdf5d0>"
            ]
          },
          "metadata": {},
          "execution_count": 112
        },
        {
          "output_type": "display_data",
          "data": {
            "text/plain": [
              "<Figure size 1800x720 with 2 Axes>"
            ],
            "image/png": "[encoded data removed]"
          },
          "metadata": {}
        }
      ]
    },
    {
      "cell_type": "markdown",
      "source": [
        "**Feature Selection**"
      ],
      "metadata": {
        "id": "TmO1Qq28xX8K"
      }
    },
    {
      "cell_type": "code",
      "execution_count": null,
      "metadata": {
        "id": "dSxf_I7jnTsY"
      },
      "outputs": [],
      "source": [
        "fulldata.drop('id', axis=1, inplace=True)\n",
        "fulldata.drop('gender', axis=1, inplace=True)\n",
        "#fulldata.drop('work_type', axis=1, inplace=True)\n",
        "fulldata.drop('Residence_type', axis=1, inplace=True)\n",
        "#fulldata.drop('bmi', axis=1, inplace=True)\n",
        "fulldata.drop('smoking_status', axis=1, inplace=True)"
      ]
    },
    {
      "cell_type": "code",
      "execution_count": null,
      "metadata": {
        "colab": {
          "base_uri": "https://localhost:8080/",
          "height": 424
        },
        "id": "SL6TroUxweNo",
        "outputId": "2ecd6cdc-9201-4819-c764-61b488283b19"
      },
      "outputs": [
        {
          "output_type": "execute_result",
          "data": {
            "text/plain": [
              "       age  hypertension  heart_disease ever_married      work_type  \\\n",
              "0     67.0             0              1          Yes        Private   \n",
              "1     61.0             0              0          Yes  Self-employed   \n",
              "2     80.0             0              1          Yes        Private   \n",
              "3     49.0             0              0          Yes        Private   \n",
              "4     79.0             1              0          Yes  Self-employed   \n",
              "...    ...           ...            ...          ...            ...   \n",
              "5105  80.0             1              0          Yes        Private   \n",
              "5106  81.0             0              0          Yes  Self-employed   \n",
              "5107  35.0             0              0          Yes  Self-employed   \n",
              "5108  51.0             0              0          Yes        Private   \n",
              "5109  44.0             0              0          Yes       Govt_job   \n",
              "\n",
              "      avg_glucose_level        bmi  stroke  \n",
              "0              169.3575  36.600000       1  \n",
              "1              169.3575  28.743512       1  \n",
              "2              105.9200  32.500000       1  \n",
              "3              169.3575  34.400000       1  \n",
              "4              169.3575  24.000000       1  \n",
              "...                 ...        ...     ...  \n",
              "5105            83.7500  28.743512       0  \n",
              "5106           125.2000  40.000000       0  \n",
              "5107            82.9900  30.600000       0  \n",
              "5108           166.2900  25.600000       0  \n",
              "5109            85.2800  26.200000       0  \n",
              "\n",
              "[5110 rows x 8 columns]"
            ],
            "text/html": [
              "\n",
              "  <div id=\"df-e48f1a53-46d0-4c45-91d1-3ac6148919a9\">\n",
              "    <div class=\"colab-df-container\">\n",
              "      <div>\n",
              "<style scoped>\n",
              "    .dataframe tbody tr th:only-of-type {\n",
              "        vertical-align: middle;\n",
              "    }\n",
              "\n",
              "    .dataframe tbody tr th {\n",
              "        vertical-align: top;\n",
              "    }\n",
              "\n",
              "    .dataframe thead th {\n",
              "        text-align: right;\n",
              "    }\n",
              "</style>\n",
              "<table border=\"1\" class=\"dataframe\">\n",
              "  <thead>\n",
              "    <tr style=\"text-align: right;\">\n",
              "      <th></th>\n",
              "      <th>age</th>\n",
              "      <th>hypertension</th>\n",
              "      <th>heart_disease</th>\n",
              "      <th>ever_married</th>\n",
              "      <th>work_type</th>\n",
              "      <th>avg_glucose_level</th>\n",
              "      <th>bmi</th>\n",
              "      <th>stroke</th>\n",
              "    </tr>\n",
              "  </thead>\n",
              "  <tbody>\n",
              "    <tr>\n",
              "      <th>0</th>\n",
              "      <td>67.0</td>\n",
              "      <td>0</td>\n",
              "      <td>1</td>\n",
              "      <td>Yes</td>\n",
              "      <td>Private</td>\n",
              "      <td>169.3575</td>\n",
              "      <td>36.600000</td>\n",
              "      <td>1</td>\n",
              "    </tr>\n",
              "    <tr>\n",
              "      <th>1</th>\n",
              "      <td>61.0</td>\n",
              "      <td>0</td>\n",
              "      <td>0</td>\n",
              "      <td>Yes</td>\n",
              "      <td>Self-employed</td>\n",
              "      <td>169.3575</td>\n",
              "      <td>28.743512</td>\n",
              "      <td>1</td>\n",
              "    </tr>\n",
              "    <tr>\n",
              "      <th>2</th>\n",
              "      <td>80.0</td>\n",
              "      <td>0</td>\n",
              "      <td>1</td>\n",
              "      <td>Yes</td>\n",
              "      <td>Private</td>\n",
              "      <td>105.9200</td>\n",
              "      <td>32.500000</td>\n",
              "      <td>1</td>\n",
              "    </tr>\n",
              "    <tr>\n",
              "      <th>3</th>\n",
              "      <td>49.0</td>\n",
              "      <td>0</td>\n",
              "      <td>0</td>\n",
              "      <td>Yes</td>\n",
              "      <td>Private</td>\n",
              "      <td>169.3575</td>\n",
              "      <td>34.400000</td>\n",
              "      <td>1</td>\n",
              "    </tr>\n",
              "    <tr>\n",
              "      <th>4</th>\n",
              "      <td>79.0</td>\n",
              "      <td>1</td>\n",
              "      <td>0</td>\n",
              "      <td>Yes</td>\n",
              "      <td>Self-employed</td>\n",
              "      <td>169.3575</td>\n",
              "      <td>24.000000</td>\n",
              "      <td>1</td>\n",
              "    </tr>\n",
              "    <tr>\n",
              "      <th>...</th>\n",
              "      <td>...</td>\n",
              "      <td>...</td>\n",
              "      <td>...</td>\n",
              "      <td>...</td>\n",
              "      <td>...</td>\n",
              "      <td>...</td>\n",
              "      <td>...</td>\n",
              "      <td>...</td>\n",
              "    </tr>\n",
              "    <tr>\n",
              "      <th>5105</th>\n",
              "      <td>80.0</td>\n",
              "      <td>1</td>\n",
              "      <td>0</td>\n",
              "      <td>Yes</td>\n",
              "      <td>Private</td>\n",
              "      <td>83.7500</td>\n",
              "      <td>28.743512</td>\n",
              "      <td>0</td>\n",
              "    </tr>\n",
              "    <tr>\n",
              "      <th>5106</th>\n",
              "      <td>81.0</td>\n",
              "      <td>0</td>\n",
              "      <td>0</td>\n",
              "      <td>Yes</td>\n",
              "      <td>Self-employed</td>\n",
              "      <td>125.2000</td>\n",
              "      <td>40.000000</td>\n",
              "      <td>0</td>\n",
              "    </tr>\n",
              "    <tr>\n",
              "      <th>5107</th>\n",
              "      <td>35.0</td>\n",
              "      <td>0</td>\n",
              "      <td>0</td>\n",
              "      <td>Yes</td>\n",
              "      <td>Self-employed</td>\n",
              "      <td>82.9900</td>\n",
              "      <td>30.600000</td>\n",
              "      <td>0</td>\n",
              "    </tr>\n",
              "    <tr>\n",
              "      <th>5108</th>\n",
              "      <td>51.0</td>\n",
              "      <td>0</td>\n",
              "      <td>0</td>\n",
              "      <td>Yes</td>\n",
              "      <td>Private</td>\n",
              "      <td>166.2900</td>\n",
              "      <td>25.600000</td>\n",
              "      <td>0</td>\n",
              "    </tr>\n",
              "    <tr>\n",
              "      <th>5109</th>\n",
              "      <td>44.0</td>\n",
              "      <td>0</td>\n",
              "      <td>0</td>\n",
              "      <td>Yes</td>\n",
              "      <td>Govt_job</td>\n",
              "      <td>85.2800</td>\n",
              "      <td>26.200000</td>\n",
              "      <td>0</td>\n",
              "    </tr>\n",
              "  </tbody>\n",
              "</table>\n",
              "<p>5110 rows × 8 columns</p>\n",
              "</div>\n",
              "      <button class=\"colab-df-convert\" onclick=\"convertToInteractive('df-e48f1a53-46d0-4c45-91d1-3ac6148919a9')\"\n",
              "              title=\"Convert this dataframe to an interactive table.\"\n",
              "              style=\"display:none;\">\n",
              "        \n",
              "  <svg xmlns=\"http://www.w3.org/2000/svg\" height=\"24px\"viewBox=\"0 0 24 24\"\n",
              "       width=\"24px\">\n",
              "    <path d=\"M0 0h24v24H0V0z\" fill=\"none\"/>\n",
              "    <path d=\"M18.56 5.44l.94 2.06.94-2.06 2.06-.94-2.06-.94-.94-2.06-.94 2.06-2.06.94zm-11 1L8.5 8.5l.94-2.06 2.06-.94-2.06-.94L8.5 2.5l-.94 2.06-2.06.94zm10 10l.94 2.06.94-2.06 2.06-.94-2.06-.94-.94-2.06-.94 2.06-2.06.94z\"/><path d=\"M17.41 7.96l-1.37-1.37c-.4-.4-.92-.59-1.43-.59-.52 0-1.04.2-1.43.59L10.3 9.45l-7.72 7.72c-.78.78-.78 2.05 0 2.83L4 21.41c.39.39.9.59 1.41.59.51 0 1.02-.2 1.41-.59l7.78-7.78 2.81-2.81c.8-.78.8-2.07 0-2.86zM5.41 20L4 18.59l7.72-7.72 1.47 1.35L5.41 20z\"/>\n",
              "  </svg>\n",
              "      </button>\n",
              "      \n",
              "  <style>\n",
              "    .colab-df-container {\n",
              "      display:flex;\n",
              "      flex-wrap:wrap;\n",
              "      gap: 12px;\n",
              "    }\n",
              "\n",
              "    .colab-df-convert {\n",
              "      background-color: #E8F0FE;\n",
              "      border: none;\n",
              "      border-radius: 50%;\n",
              "      cursor: pointer;\n",
              "      display: none;\n",
              "      fill: #1967D2;\n",
              "      height: 32px;\n",
              "      padding: 0 0 0 0;\n",
              "      width: 32px;\n",
              "    }\n",
              "\n",
              "    .colab-df-convert:hover {\n",
              "      background-color: #E2EBFA;\n",
              "      box-shadow: 0px 1px 2px rgba(60, 64, 67, 0.3), 0px 1px 3px 1px rgba(60, 64, 67, 0.15);\n",
              "      fill: #174EA6;\n",
              "    }\n",
              "\n",
              "    [theme=dark] .colab-df-convert {\n",
              "      background-color: #3B4455;\n",
              "      fill: #D2E3FC;\n",
              "    }\n",
              "\n",
              "    [theme=dark] .colab-df-convert:hover {\n",
              "      background-color: #434B5C;\n",
              "      box-shadow: 0px 1px 3px 1px rgba(0, 0, 0, 0.15);\n",
              "      filter: drop-shadow(0px 1px 2px rgba(0, 0, 0, 0.3));\n",
              "      fill: #FFFFFF;\n",
              "    }\n",
              "  </style>\n",
              "\n",
              "      <script>\n",
              "        const buttonEl =\n",
              "          document.querySelector('#df-e48f1a53-46d0-4c45-91d1-3ac6148919a9 button.colab-df-convert');\n",
              "        buttonEl.style.display =\n",
              "          google.colab.kernel.accessAllowed ? 'block' : 'none';\n",
              "\n",
              "        async function convertToInteractive(key) {\n",
              "          const element = document.querySelector('#df-e48f1a53-46d0-4c45-91d1-3ac6148919a9');\n",
              "          const dataTable =\n",
              "            await google.colab.kernel.invokeFunction('convertToInteractive',\n",
              "                                                     [key], {});\n",
              "          if (!dataTable) return;\n",
              "\n",
              "          const docLinkHtml = 'Like what you see? Visit the ' +\n",
              "            '<a target=\"_blank\" href=https://colab.research.google.com/notebooks/data_table.ipynb>data table notebook</a>'\n",
              "            + ' to learn more about interactive tables.';\n",
              "          element.innerHTML = '';\n",
              "          dataTable['output_type'] = 'display_data';\n",
              "          await google.colab.output.renderOutput(dataTable, element);\n",
              "          const docLink = document.createElement('div');\n",
              "          docLink.innerHTML = docLinkHtml;\n",
              "          element.appendChild(docLink);\n",
              "        }\n",
              "      </script>\n",
              "    </div>\n",
              "  </div>\n",
              "  "
            ]
          },
          "metadata": {},
          "execution_count": 114
        }
      ],
      "source": [
        "fulldata"
      ]
    },
    {
      "cell_type": "code",
      "execution_count": null,
      "metadata": {
        "colab": {
          "base_uri": "https://localhost:8080/"
        },
        "id": "dZ-GomSWoZfR",
        "outputId": "b264e519-7107-494a-808c-9d0933020a68"
      },
      "outputs": [
        {
          "output_type": "execute_result",
          "data": {
            "text/plain": [
              "age                   104\n",
              "hypertension            2\n",
              "heart_disease           2\n",
              "ever_married            2\n",
              "work_type               5\n",
              "avg_glucose_level    3375\n",
              "bmi                   345\n",
              "stroke                  2\n",
              "dtype: int64"
            ]
          },
          "metadata": {},
          "execution_count": 115
        }
      ],
      "source": [
        "fulldata.nunique()"
      ]
    },
    {
      "cell_type": "code",
      "execution_count": null,
      "metadata": {
        "colab": {
          "base_uri": "https://localhost:8080/"
        },
        "id": "4kxQ6oRMO4cP",
        "outputId": "312b1a88-89d2-411d-fb2a-f49ec070a818"
      },
      "outputs": [
        {
          "output_type": "execute_result",
          "data": {
            "text/plain": [
              "(5110, 8)"
            ]
          },
          "metadata": {},
          "execution_count": 116
        }
      ],
      "source": [
        "fulldata.shape"
      ]
    },
    {
      "cell_type": "markdown",
      "metadata": {
        "id": "mTRYzCfeOQKZ"
      },
      "source": [
        "**Label Encoding**"
      ]
    },
    {
      "cell_type": "code",
      "execution_count": null,
      "metadata": {
        "id": "1kQ2PLZfOluk"
      },
      "outputs": [],
      "source": [
        "df_numeric = fulldata[['age', 'hypertension', 'heart_disease', 'avg_glucose_level', 'bmi', 'stroke']]\n",
        "df_categorical = fulldata[['ever_married', 'work_type']]"
      ]
    },
    {
      "cell_type": "code",
      "execution_count": null,
      "metadata": {
        "colab": {
          "base_uri": "https://localhost:8080/",
          "height": 206
        },
        "id": "rK96wVMhPuEO",
        "outputId": "5b3de223-0855-4f5a-9586-2ae1c8e88a0d"
      },
      "outputs": [
        {
          "output_type": "execute_result",
          "data": {
            "text/plain": [
              "   ever_married_Yes  work_type_Never_worked  work_type_Private  \\\n",
              "0                 1                       0                  1   \n",
              "1                 1                       0                  0   \n",
              "2                 1                       0                  1   \n",
              "3                 1                       0                  1   \n",
              "4                 1                       0                  0   \n",
              "\n",
              "   work_type_Self-employed  work_type_children  \n",
              "0                        0                   0  \n",
              "1                        1                   0  \n",
              "2                        0                   0  \n",
              "3                        0                   0  \n",
              "4                        1                   0  "
            ],
            "text/html": [
              "\n",
              "  <div id=\"df-b0b3234b-0833-413b-aa11-70306514d6c4\">\n",
              "    <div class=\"colab-df-container\">\n",
              "      <div>\n",
              "<style scoped>\n",
              "    .dataframe tbody tr th:only-of-type {\n",
              "        vertical-align: middle;\n",
              "    }\n",
              "\n",
              "    .dataframe tbody tr th {\n",
              "        vertical-align: top;\n",
              "    }\n",
              "\n",
              "    .dataframe thead th {\n",
              "        text-align: right;\n",
              "    }\n",
              "</style>\n",
              "<table border=\"1\" class=\"dataframe\">\n",
              "  <thead>\n",
              "    <tr style=\"text-align: right;\">\n",
              "      <th></th>\n",
              "      <th>ever_married_Yes</th>\n",
              "      <th>work_type_Never_worked</th>\n",
              "      <th>work_type_Private</th>\n",
              "      <th>work_type_Self-employed</th>\n",
              "      <th>work_type_children</th>\n",
              "    </tr>\n",
              "  </thead>\n",
              "  <tbody>\n",
              "    <tr>\n",
              "      <th>0</th>\n",
              "      <td>1</td>\n",
              "      <td>0</td>\n",
              "      <td>1</td>\n",
              "      <td>0</td>\n",
              "      <td>0</td>\n",
              "    </tr>\n",
              "    <tr>\n",
              "      <th>1</th>\n",
              "      <td>1</td>\n",
              "      <td>0</td>\n",
              "      <td>0</td>\n",
              "      <td>1</td>\n",
              "      <td>0</td>\n",
              "    </tr>\n",
              "    <tr>\n",
              "      <th>2</th>\n",
              "      <td>1</td>\n",
              "      <td>0</td>\n",
              "      <td>1</td>\n",
              "      <td>0</td>\n",
              "      <td>0</td>\n",
              "    </tr>\n",
              "    <tr>\n",
              "      <th>3</th>\n",
              "      <td>1</td>\n",
              "      <td>0</td>\n",
              "      <td>1</td>\n",
              "      <td>0</td>\n",
              "      <td>0</td>\n",
              "    </tr>\n",
              "    <tr>\n",
              "      <th>4</th>\n",
              "      <td>1</td>\n",
              "      <td>0</td>\n",
              "      <td>0</td>\n",
              "      <td>1</td>\n",
              "      <td>0</td>\n",
              "    </tr>\n",
              "  </tbody>\n",
              "</table>\n",
              "</div>\n",
              "      <button class=\"colab-df-convert\" onclick=\"convertToInteractive('df-b0b3234b-0833-413b-aa11-70306514d6c4')\"\n",
              "              title=\"Convert this dataframe to an interactive table.\"\n",
              "              style=\"display:none;\">\n",
              "        \n",
              "  <svg xmlns=\"http://www.w3.org/2000/svg\" height=\"24px\"viewBox=\"0 0 24 24\"\n",
              "       width=\"24px\">\n",
              "    <path d=\"M0 0h24v24H0V0z\" fill=\"none\"/>\n",
              "    <path d=\"M18.56 5.44l.94 2.06.94-2.06 2.06-.94-2.06-.94-.94-2.06-.94 2.06-2.06.94zm-11 1L8.5 8.5l.94-2.06 2.06-.94-2.06-.94L8.5 2.5l-.94 2.06-2.06.94zm10 10l.94 2.06.94-2.06 2.06-.94-2.06-.94-.94-2.06-.94 2.06-2.06.94z\"/><path d=\"M17.41 7.96l-1.37-1.37c-.4-.4-.92-.59-1.43-.59-.52 0-1.04.2-1.43.59L10.3 9.45l-7.72 7.72c-.78.78-.78 2.05 0 2.83L4 21.41c.39.39.9.59 1.41.59.51 0 1.02-.2 1.41-.59l7.78-7.78 2.81-2.81c.8-.78.8-2.07 0-2.86zM5.41 20L4 18.59l7.72-7.72 1.47 1.35L5.41 20z\"/>\n",
              "  </svg>\n",
              "      </button>\n",
              "      \n",
              "  <style>\n",
              "    .colab-df-container {\n",
              "      display:flex;\n",
              "      flex-wrap:wrap;\n",
              "      gap: 12px;\n",
              "    }\n",
              "\n",
              "    .colab-df-convert {\n",
              "      background-color: #E8F0FE;\n",
              "      border: none;\n",
              "      border-radius: 50%;\n",
              "      cursor: pointer;\n",
              "      display: none;\n",
              "      fill: #1967D2;\n",
              "      height: 32px;\n",
              "      padding: 0 0 0 0;\n",
              "      width: 32px;\n",
              "    }\n",
              "\n",
              "    .colab-df-convert:hover {\n",
              "      background-color: #E2EBFA;\n",
              "      box-shadow: 0px 1px 2px rgba(60, 64, 67, 0.3), 0px 1px 3px 1px rgba(60, 64, 67, 0.15);\n",
              "      fill: #174EA6;\n",
              "    }\n",
              "\n",
              "    [theme=dark] .colab-df-convert {\n",
              "      background-color: #3B4455;\n",
              "      fill: #D2E3FC;\n",
              "    }\n",
              "\n",
              "    [theme=dark] .colab-df-convert:hover {\n",
              "      background-color: #434B5C;\n",
              "      box-shadow: 0px 1px 3px 1px rgba(0, 0, 0, 0.15);\n",
              "      filter: drop-shadow(0px 1px 2px rgba(0, 0, 0, 0.3));\n",
              "      fill: #FFFFFF;\n",
              "    }\n",
              "  </style>\n",
              "\n",
              "      <script>\n",
              "        const buttonEl =\n",
              "          document.querySelector('#df-b0b3234b-0833-413b-aa11-70306514d6c4 button.colab-df-convert');\n",
              "        buttonEl.style.display =\n",
              "          google.colab.kernel.accessAllowed ? 'block' : 'none';\n",
              "\n",
              "        async function convertToInteractive(key) {\n",
              "          const element = document.querySelector('#df-b0b3234b-0833-413b-aa11-70306514d6c4');\n",
              "          const dataTable =\n",
              "            await google.colab.kernel.invokeFunction('convertToInteractive',\n",
              "                                                     [key], {});\n",
              "          if (!dataTable) return;\n",
              "\n",
              "          const docLinkHtml = 'Like what you see? Visit the ' +\n",
              "            '<a target=\"_blank\" href=https://colab.research.google.com/notebooks/data_table.ipynb>data table notebook</a>'\n",
              "            + ' to learn more about interactive tables.';\n",
              "          element.innerHTML = '';\n",
              "          dataTable['output_type'] = 'display_data';\n",
              "          await google.colab.output.renderOutput(dataTable, element);\n",
              "          const docLink = document.createElement('div');\n",
              "          docLink.innerHTML = docLinkHtml;\n",
              "          element.appendChild(docLink);\n",
              "        }\n",
              "      </script>\n",
              "    </div>\n",
              "  </div>\n",
              "  "
            ]
          },
          "metadata": {},
          "execution_count": 118
        }
      ],
      "source": [
        "df_categorical_encoded = pd.get_dummies(df_categorical, drop_first=True)\n",
        "df_categorical_encoded.head()"
      ]
    },
    {
      "cell_type": "code",
      "execution_count": null,
      "metadata": {
        "colab": {
          "base_uri": "https://localhost:8080/"
        },
        "id": "0IItsgqKYJa6",
        "outputId": "2871e707-aa3d-41d0-805d-517dc3106c8b"
      },
      "outputs": [
        {
          "output_type": "execute_result",
          "data": {
            "text/plain": [
              "(5110, 11)"
            ]
          },
          "metadata": {},
          "execution_count": 119
        }
      ],
      "source": [
        "df_encoded = pd.concat([df_numeric, df_categorical_encoded], axis=1)\n",
        "df_encoded.shape"
      ]
    },
    {
      "cell_type": "code",
      "execution_count": null,
      "metadata": {
        "colab": {
          "base_uri": "https://localhost:8080/"
        },
        "id": "Wc8vmIURaEmc",
        "outputId": "783083b4-c8fb-4fdc-b15a-d72e4e5702dc"
      },
      "outputs": [
        {
          "output_type": "execute_result",
          "data": {
            "text/plain": [
              "age                         104\n",
              "hypertension                  2\n",
              "heart_disease                 2\n",
              "avg_glucose_level          3375\n",
              "bmi                         345\n",
              "stroke                        2\n",
              "ever_married_Yes              2\n",
              "work_type_Never_worked        2\n",
              "work_type_Private             2\n",
              "work_type_Self-employed       2\n",
              "work_type_children            2\n",
              "dtype: int64"
            ]
          },
          "metadata": {},
          "execution_count": 120
        }
      ],
      "source": [
        "df_encoded.nunique()"
      ]
    },
    {
      "cell_type": "markdown",
      "metadata": {
        "id": "oOJMsQ7UdMbn"
      },
      "source": [
        "**Import the independent and dependent variable**"
      ]
    },
    {
      "cell_type": "code",
      "execution_count": null,
      "metadata": {
        "id": "4GNhd9pZdWCg"
      },
      "outputs": [],
      "source": [
        "xx = df_encoded.drop('stroke', axis=1)\n",
        "yy = df_encoded['stroke']"
      ]
    },
    {
      "cell_type": "code",
      "execution_count": null,
      "metadata": {
        "colab": {
          "base_uri": "https://localhost:8080/"
        },
        "id": "vZA3WkTcdekr",
        "outputId": "737ada4d-1637-41e7-a26c-ee1f0716184c"
      },
      "outputs": [
        {
          "output_type": "stream",
          "name": "stdout",
          "text": [
            "(5110, 10)\n",
            "(5110,)\n"
          ]
        },
        {
          "output_type": "execute_result",
          "data": {
            "text/plain": [
              "(None, None)"
            ]
          },
          "metadata": {},
          "execution_count": 122
        }
      ],
      "source": [
        "print(xx.shape), print(yy.shape)"
      ]
    },
    {
      "cell_type": "markdown",
      "source": [
        "**Handling Imbalanced Data**"
      ],
      "metadata": {
        "id": "OkLbLa1yRsYU"
      }
    },
    {
      "cell_type": "code",
      "source": [
        "ros = RandomOverSampler(sampling_strategy=\"not majority\") # String\n",
        "X_res, y_res = ros.fit_resample(xx, yy)\n",
        "print(X_res.shape), print(y_res.shape)"
      ],
      "metadata": {
        "colab": {
          "base_uri": "https://localhost:8080/"
        },
        "id": "jcXtY8BqSKOO",
        "outputId": "a56fe65d-a82b-4d1b-e48e-703aef48bdd0"
      },
      "execution_count": null,
      "outputs": [
        {
          "output_type": "stream",
          "name": "stdout",
          "text": [
            "(9722, 10)\n",
            "(9722,)\n"
          ]
        },
        {
          "output_type": "execute_result",
          "data": {
            "text/plain": [
              "(None, None)"
            ]
          },
          "metadata": {},
          "execution_count": 123
        }
      ]
    },
    {
      "cell_type": "code",
      "source": [
        "print(y_res.value_counts())"
      ],
      "metadata": {
        "colab": {
          "base_uri": "https://localhost:8080/"
        },
        "id": "OmbYZXqxTLuN",
        "outputId": "ae47ecfb-4f27-4a71-8974-a8d3451956f1"
      },
      "execution_count": null,
      "outputs": [
        {
          "output_type": "stream",
          "name": "stdout",
          "text": [
            "1    4861\n",
            "0    4861\n",
            "Name: stroke, dtype: int64\n"
          ]
        }
      ]
    },
    {
      "cell_type": "code",
      "source": [
        "X_res"
      ],
      "metadata": {
        "colab": {
          "base_uri": "https://localhost:8080/",
          "height": 505
        },
        "id": "xEkz86Q5evRv",
        "outputId": "94f8bc6a-533e-4645-9742-127b5ce25a5a"
      },
      "execution_count": null,
      "outputs": [
        {
          "output_type": "execute_result",
          "data": {
            "text/plain": [
              "       age  hypertension  heart_disease  avg_glucose_level        bmi  \\\n",
              "0     67.0             0              1           169.3575  36.600000   \n",
              "1     61.0             0              0           169.3575  28.743512   \n",
              "2     80.0             0              1           105.9200  32.500000   \n",
              "3     49.0             0              0           169.3575  34.400000   \n",
              "4     79.0             1              0           169.3575  24.000000   \n",
              "...    ...           ...            ...                ...        ...   \n",
              "9717  50.0             0              0           102.1600  31.400000   \n",
              "9718  78.0             0              0           169.3575  26.800000   \n",
              "9719  79.0             1              1            60.9400  28.743512   \n",
              "9720  76.0             1              0           169.3575  33.600000   \n",
              "9721  72.0             0              0           169.3575  28.743512   \n",
              "\n",
              "      ever_married_Yes  work_type_Never_worked  work_type_Private  \\\n",
              "0                    1                       0                  1   \n",
              "1                    1                       0                  0   \n",
              "2                    1                       0                  1   \n",
              "3                    1                       0                  1   \n",
              "4                    1                       0                  0   \n",
              "...                ...                     ...                ...   \n",
              "9717                 1                       0                  1   \n",
              "9718                 1                       0                  0   \n",
              "9719                 0                       0                  0   \n",
              "9720                 1                       0                  1   \n",
              "9721                 1                       0                  1   \n",
              "\n",
              "      work_type_Self-employed  work_type_children  \n",
              "0                           0                   0  \n",
              "1                           1                   0  \n",
              "2                           0                   0  \n",
              "3                           0                   0  \n",
              "4                           1                   0  \n",
              "...                       ...                 ...  \n",
              "9717                        0                   0  \n",
              "9718                        1                   0  \n",
              "9719                        1                   0  \n",
              "9720                        0                   0  \n",
              "9721                        0                   0  \n",
              "\n",
              "[9722 rows x 10 columns]"
            ],
            "text/html": [
              "\n",
              "  <div id=\"df-994b245b-ccd0-4e8c-aab0-ae7f305aaa1d\">\n",
              "    <div class=\"colab-df-container\">\n",
              "      <div>\n",
              "<style scoped>\n",
              "    .dataframe tbody tr th:only-of-type {\n",
              "        vertical-align: middle;\n",
              "    }\n",
              "\n",
              "    .dataframe tbody tr th {\n",
              "        vertical-align: top;\n",
              "    }\n",
              "\n",
              "    .dataframe thead th {\n",
              "        text-align: right;\n",
              "    }\n",
              "</style>\n",
              "<table border=\"1\" class=\"dataframe\">\n",
              "  <thead>\n",
              "    <tr style=\"text-align: right;\">\n",
              "      <th></th>\n",
              "      <th>age</th>\n",
              "      <th>hypertension</th>\n",
              "      <th>heart_disease</th>\n",
              "      <th>avg_glucose_level</th>\n",
              "      <th>bmi</th>\n",
              "      <th>ever_married_Yes</th>\n",
              "      <th>work_type_Never_worked</th>\n",
              "      <th>work_type_Private</th>\n",
              "      <th>work_type_Self-employed</th>\n",
              "      <th>work_type_children</th>\n",
              "    </tr>\n",
              "  </thead>\n",
              "  <tbody>\n",
              "    <tr>\n",
              "      <th>0</th>\n",
              "      <td>67.0</td>\n",
              "      <td>0</td>\n",
              "      <td>1</td>\n",
              "      <td>169.3575</td>\n",
              "      <td>36.600000</td>\n",
              "      <td>1</td>\n",
              "      <td>0</td>\n",
              "      <td>1</td>\n",
              "      <td>0</td>\n",
              "      <td>0</td>\n",
              "    </tr>\n",
              "    <tr>\n",
              "      <th>1</th>\n",
              "      <td>61.0</td>\n",
              "      <td>0</td>\n",
              "      <td>0</td>\n",
              "      <td>169.3575</td>\n",
              "      <td>28.743512</td>\n",
              "      <td>1</td>\n",
              "      <td>0</td>\n",
              "      <td>0</td>\n",
              "      <td>1</td>\n",
              "      <td>0</td>\n",
              "    </tr>\n",
              "    <tr>\n",
              "      <th>2</th>\n",
              "      <td>80.0</td>\n",
              "      <td>0</td>\n",
              "      <td>1</td>\n",
              "      <td>105.9200</td>\n",
              "      <td>32.500000</td>\n",
              "      <td>1</td>\n",
              "      <td>0</td>\n",
              "      <td>1</td>\n",
              "      <td>0</td>\n",
              "      <td>0</td>\n",
              "    </tr>\n",
              "    <tr>\n",
              "      <th>3</th>\n",
              "      <td>49.0</td>\n",
              "      <td>0</td>\n",
              "      <td>0</td>\n",
              "      <td>169.3575</td>\n",
              "      <td>34.400000</td>\n",
              "      <td>1</td>\n",
              "      <td>0</td>\n",
              "      <td>1</td>\n",
              "      <td>0</td>\n",
              "      <td>0</td>\n",
              "    </tr>\n",
              "    <tr>\n",
              "      <th>4</th>\n",
              "      <td>79.0</td>\n",
              "      <td>1</td>\n",
              "      <td>0</td>\n",
              "      <td>169.3575</td>\n",
              "      <td>24.000000</td>\n",
              "      <td>1</td>\n",
              "      <td>0</td>\n",
              "      <td>0</td>\n",
              "      <td>1</td>\n",
              "      <td>0</td>\n",
              "    </tr>\n",
              "    <tr>\n",
              "      <th>...</th>\n",
              "      <td>...</td>\n",
              "      <td>...</td>\n",
              "      <td>...</td>\n",
              "      <td>...</td>\n",
              "      <td>...</td>\n",
              "      <td>...</td>\n",
              "      <td>...</td>\n",
              "      <td>...</td>\n",
              "      <td>...</td>\n",
              "      <td>...</td>\n",
              "    </tr>\n",
              "    <tr>\n",
              "      <th>9717</th>\n",
              "      <td>50.0</td>\n",
              "      <td>0</td>\n",
              "      <td>0</td>\n",
              "      <td>102.1600</td>\n",
              "      <td>31.400000</td>\n",
              "      <td>1</td>\n",
              "      <td>0</td>\n",
              "      <td>1</td>\n",
              "      <td>0</td>\n",
              "      <td>0</td>\n",
              "    </tr>\n",
              "    <tr>\n",
              "      <th>9718</th>\n",
              "      <td>78.0</td>\n",
              "      <td>0</td>\n",
              "      <td>0</td>\n",
              "      <td>169.3575</td>\n",
              "      <td>26.800000</td>\n",
              "      <td>1</td>\n",
              "      <td>0</td>\n",
              "      <td>0</td>\n",
              "      <td>1</td>\n",
              "      <td>0</td>\n",
              "    </tr>\n",
              "    <tr>\n",
              "      <th>9719</th>\n",
              "      <td>79.0</td>\n",
              "      <td>1</td>\n",
              "      <td>1</td>\n",
              "      <td>60.9400</td>\n",
              "      <td>28.743512</td>\n",
              "      <td>0</td>\n",
              "      <td>0</td>\n",
              "      <td>0</td>\n",
              "      <td>1</td>\n",
              "      <td>0</td>\n",
              "    </tr>\n",
              "    <tr>\n",
              "      <th>9720</th>\n",
              "      <td>76.0</td>\n",
              "      <td>1</td>\n",
              "      <td>0</td>\n",
              "      <td>169.3575</td>\n",
              "      <td>33.600000</td>\n",
              "      <td>1</td>\n",
              "      <td>0</td>\n",
              "      <td>1</td>\n",
              "      <td>0</td>\n",
              "      <td>0</td>\n",
              "    </tr>\n",
              "    <tr>\n",
              "      <th>9721</th>\n",
              "      <td>72.0</td>\n",
              "      <td>0</td>\n",
              "      <td>0</td>\n",
              "      <td>169.3575</td>\n",
              "      <td>28.743512</td>\n",
              "      <td>1</td>\n",
              "      <td>0</td>\n",
              "      <td>1</td>\n",
              "      <td>0</td>\n",
              "      <td>0</td>\n",
              "    </tr>\n",
              "  </tbody>\n",
              "</table>\n",
              "<p>9722 rows × 10 columns</p>\n",
              "</div>\n",
              "      <button class=\"colab-df-convert\" onclick=\"convertToInteractive('df-994b245b-ccd0-4e8c-aab0-ae7f305aaa1d')\"\n",
              "              title=\"Convert this dataframe to an interactive table.\"\n",
              "              style=\"display:none;\">\n",
              "        \n",
              "  <svg xmlns=\"http://www.w3.org/2000/svg\" height=\"24px\"viewBox=\"0 0 24 24\"\n",
              "       width=\"24px\">\n",
              "    <path d=\"M0 0h24v24H0V0z\" fill=\"none\"/>\n",
              "    <path d=\"M18.56 5.44l.94 2.06.94-2.06 2.06-.94-2.06-.94-.94-2.06-.94 2.06-2.06.94zm-11 1L8.5 8.5l.94-2.06 2.06-.94-2.06-.94L8.5 2.5l-.94 2.06-2.06.94zm10 10l.94 2.06.94-2.06 2.06-.94-2.06-.94-.94-2.06-.94 2.06-2.06.94z\"/><path d=\"M17.41 7.96l-1.37-1.37c-.4-.4-.92-.59-1.43-.59-.52 0-1.04.2-1.43.59L10.3 9.45l-7.72 7.72c-.78.78-.78 2.05 0 2.83L4 21.41c.39.39.9.59 1.41.59.51 0 1.02-.2 1.41-.59l7.78-7.78 2.81-2.81c.8-.78.8-2.07 0-2.86zM5.41 20L4 18.59l7.72-7.72 1.47 1.35L5.41 20z\"/>\n",
              "  </svg>\n",
              "      </button>\n",
              "      \n",
              "  <style>\n",
              "    .colab-df-container {\n",
              "      display:flex;\n",
              "      flex-wrap:wrap;\n",
              "      gap: 12px;\n",
              "    }\n",
              "\n",
              "    .colab-df-convert {\n",
              "      background-color: #E8F0FE;\n",
              "      border: none;\n",
              "      border-radius: 50%;\n",
              "      cursor: pointer;\n",
              "      display: none;\n",
              "      fill: #1967D2;\n",
              "      height: 32px;\n",
              "      padding: 0 0 0 0;\n",
              "      width: 32px;\n",
              "    }\n",
              "\n",
              "    .colab-df-convert:hover {\n",
              "      background-color: #E2EBFA;\n",
              "      box-shadow: 0px 1px 2px rgba(60, 64, 67, 0.3), 0px 1px 3px 1px rgba(60, 64, 67, 0.15);\n",
              "      fill: #174EA6;\n",
              "    }\n",
              "\n",
              "    [theme=dark] .colab-df-convert {\n",
              "      background-color: #3B4455;\n",
              "      fill: #D2E3FC;\n",
              "    }\n",
              "\n",
              "    [theme=dark] .colab-df-convert:hover {\n",
              "      background-color: #434B5C;\n",
              "      box-shadow: 0px 1px 3px 1px rgba(0, 0, 0, 0.15);\n",
              "      filter: drop-shadow(0px 1px 2px rgba(0, 0, 0, 0.3));\n",
              "      fill: #FFFFFF;\n",
              "    }\n",
              "  </style>\n",
              "\n",
              "      <script>\n",
              "        const buttonEl =\n",
              "          document.querySelector('#df-994b245b-ccd0-4e8c-aab0-ae7f305aaa1d button.colab-df-convert');\n",
              "        buttonEl.style.display =\n",
              "          google.colab.kernel.accessAllowed ? 'block' : 'none';\n",
              "\n",
              "        async function convertToInteractive(key) {\n",
              "          const element = document.querySelector('#df-994b245b-ccd0-4e8c-aab0-ae7f305aaa1d');\n",
              "          const dataTable =\n",
              "            await google.colab.kernel.invokeFunction('convertToInteractive',\n",
              "                                                     [key], {});\n",
              "          if (!dataTable) return;\n",
              "\n",
              "          const docLinkHtml = 'Like what you see? Visit the ' +\n",
              "            '<a target=\"_blank\" href=https://colab.research.google.com/notebooks/data_table.ipynb>data table notebook</a>'\n",
              "            + ' to learn more about interactive tables.';\n",
              "          element.innerHTML = '';\n",
              "          dataTable['output_type'] = 'display_data';\n",
              "          await google.colab.output.renderOutput(dataTable, element);\n",
              "          const docLink = document.createElement('div');\n",
              "          docLink.innerHTML = docLinkHtml;\n",
              "          element.appendChild(docLink);\n",
              "        }\n",
              "      </script>\n",
              "    </div>\n",
              "  </div>\n",
              "  "
            ]
          },
          "metadata": {},
          "execution_count": 125
        }
      ]
    },
    {
      "cell_type": "markdown",
      "metadata": {
        "id": "aPTJWVhwnqSe"
      },
      "source": [
        "**Feature Scaling**"
      ]
    },
    {
      "cell_type": "code",
      "source": [
        "sc = StandardScaler()\n",
        "X_res = sc.fit_transform(X_res)\n",
        "X_res"
      ],
      "metadata": {
        "id": "DljgFi_GeE6x",
        "colab": {
          "base_uri": "https://localhost:8080/"
        },
        "outputId": "33a5aa71-38cb-4a52-e7de-e8c738832609"
      },
      "execution_count": null,
      "outputs": [
        {
          "output_type": "execute_result",
          "data": {
            "text/plain": [
              "array([[ 0.54287675, -0.45886717,  2.75331783, ...,  0.84733191,\n",
              "        -0.51739843, -0.28450457],\n",
              "       [ 0.27392813, -0.45886717, -0.36319817, ..., -1.18017507,\n",
              "         1.93274649, -0.28450457],\n",
              "       [ 1.12559877, -0.45886717,  2.75331783, ...,  0.84733191,\n",
              "        -0.51739843, -0.28450457],\n",
              "       ...,\n",
              "       [ 1.080774  ,  2.17927988,  2.75331783, ..., -1.18017507,\n",
              "         1.93274649, -0.28450457],\n",
              "       [ 0.94629969,  2.17927988, -0.36319817, ...,  0.84733191,\n",
              "        -0.51739843, -0.28450457],\n",
              "       [ 0.76700061, -0.45886717, -0.36319817, ...,  0.84733191,\n",
              "        -0.51739843, -0.28450457]])"
            ]
          },
          "metadata": {},
          "execution_count": 126
        }
      ]
    },
    {
      "cell_type": "markdown",
      "metadata": {
        "id": "cnO9JTj0dumO"
      },
      "source": [
        "**Training and Testing using K-Fold Cross Validation**"
      ]
    },
    {
      "cell_type": "markdown",
      "source": [
        "**Logistic Regression**"
      ],
      "metadata": {
        "id": "Fzhsf5sDH0hj"
      }
    },
    {
      "cell_type": "code",
      "source": [
        "from sklearn.linear_model import LogisticRegression\n",
        "classifier = LogisticRegression(random_state = 0)\n",
        "\n",
        "stratifiedkf=StratifiedKFold(n_splits=10)\n",
        "score1=cross_val_score(classifier,X_res,y_res,cv=stratifiedkf)\n",
        "\n",
        "print(\"Cross Validation Scores are {}\".format(score1))\n",
        "print(\"Average Cross Validation score :{}\".format(score1.mean()))\n",
        "accuracy1=score1.mean()\n",
        "#print(accuracy1)"
      ],
      "metadata": {
        "colab": {
          "base_uri": "https://localhost:8080/"
        },
        "id": "d6H7cO-VID-T",
        "outputId": "22a7c1e3-324a-41a9-b03c-f33fd477ce9b"
      },
      "execution_count": null,
      "outputs": [
        {
          "output_type": "stream",
          "name": "stdout",
          "text": [
            "Cross Validation Scores are [0.77081192 0.77903392 0.74382716 0.77777778 0.74176955 0.76954733\n",
            " 0.77366255 0.78292181 0.80761317 0.78497942]\n",
            "Average Cross Validation score :0.773194460304772\n"
          ]
        }
      ]
    },
    {
      "cell_type": "code",
      "source": [
        "pltacc1=np.asarray(score1)\n",
        "rangevalue=np.array([1,2,3,4,5,6,7,8,9,10])\n",
        "plt.figure(figsize=(8, 4))\n",
        "plt.plot(rangevalue, pltacc1, color='green', linestyle='dashed', marker='o',\n",
        "         markerfacecolor='blue', markersize=10)\n",
        "plt.title('Logistic Regression Accuracy for 10 Folds')\n",
        "plt.xlabel('K-Folds')\n",
        "plt.ylabel('Accuracy Rate')"
      ],
      "metadata": {
        "colab": {
          "base_uri": "https://localhost:8080/",
          "height": 312
        },
        "id": "h6dxkz0ZJMY7",
        "outputId": "9c3c38a4-fd4a-4b13-ef72-03bb91d892aa"
      },
      "execution_count": null,
      "outputs": [
        {
          "output_type": "execute_result",
          "data": {
            "text/plain": [
              "Text(0, 0.5, 'Accuracy Rate')"
            ]
          },
          "metadata": {},
          "execution_count": 167
        },
        {
          "output_type": "display_data",
          "data": {
            "text/plain": [
              "<Figure size 576x288 with 1 Axes>"
            ],
            "image/png": "[encoded data removed]"
          },
          "metadata": {}
        }
      ]
    },
    {
      "cell_type": "markdown",
      "source": [
        "**SVM**"
      ],
      "metadata": {
        "id": "JDwnw1R3I-xn"
      }
    },
    {
      "cell_type": "code",
      "source": [
        "from sklearn.svm import SVC\n",
        "classifier = SVC(kernel = 'linear', random_state = 0)\n",
        "\n",
        "stratifiedkf=StratifiedKFold(n_splits=10)\n",
        "score2=cross_val_score(classifier,X_res,y_res,cv=stratifiedkf)\n",
        "\n",
        "print(\"Cross Validation Scores are {}\".format(score2))\n",
        "print(\"Average Cross Validation score :{}\".format(score2.mean()))\n",
        "accuracy2=score2.mean()\n",
        "#print(accuracy2)"
      ],
      "metadata": {
        "colab": {
          "base_uri": "https://localhost:8080/"
        },
        "id": "zZkBVUz2JeRL",
        "outputId": "3eb55824-758d-4302-88d8-3557f255460e"
      },
      "execution_count": null,
      "outputs": [
        {
          "output_type": "stream",
          "name": "stdout",
          "text": [
            "Cross Validation Scores are [0.78211716 0.78211716 0.75308642 0.77366255 0.73868313 0.76234568\n",
            " 0.76748971 0.78703704 0.79938272 0.7808642 ]\n",
            "Average Cross Validation score :0.7726785767153472\n"
          ]
        }
      ]
    },
    {
      "cell_type": "code",
      "source": [
        "pltacc2=np.asarray(score2)\n",
        "rangevalue=np.array([1,2,3,4,5,6,7,8,9,10])\n",
        "plt.figure(figsize=(8, 4))\n",
        "plt.plot(rangevalue, pltacc2, color='green', linestyle='dashed', marker='o',\n",
        "         markerfacecolor='blue', markersize=10)\n",
        "plt.title('SVM Accuracy for 10 Folds')\n",
        "plt.xlabel('K-Folds')\n",
        "plt.ylabel('Accuracy Rate')"
      ],
      "metadata": {
        "colab": {
          "base_uri": "https://localhost:8080/",
          "height": 312
        },
        "id": "Yv0CkG_gJiPM",
        "outputId": "099db87b-1ea7-43c8-d262-1ecbe0594cd0"
      },
      "execution_count": null,
      "outputs": [
        {
          "output_type": "execute_result",
          "data": {
            "text/plain": [
              "Text(0, 0.5, 'Accuracy Rate')"
            ]
          },
          "metadata": {},
          "execution_count": 169
        },
        {
          "output_type": "display_data",
          "data": {
            "text/plain": [
              "<Figure size 576x288 with 1 Axes>"
            ],
            "image/png": "[encoded data removed]"
          },
          "metadata": {}
        }
      ]
    },
    {
      "cell_type": "markdown",
      "source": [
        "**KNN**"
      ],
      "metadata": {
        "id": "kgAplTE_JlIe"
      }
    },
    {
      "cell_type": "code",
      "source": [
        "from sklearn.neighbors import KNeighborsClassifier\n",
        "classifier = KNeighborsClassifier(n_neighbors = 1, metric = 'minkowski', p = 2)\n",
        "\n",
        "stratifiedkf=StratifiedKFold(n_splits=10)\n",
        "score3=cross_val_score(classifier,X_res,y_res,cv=stratifiedkf)\n",
        "\n",
        "print(\"Cross Validation Scores are {}\".format(score3))\n",
        "print(\"Average Cross Validation score :{}\".format(score3.mean()))\n",
        "accuracy3=score3.mean()\n",
        "#print(accuracy3)"
      ],
      "metadata": {
        "colab": {
          "base_uri": "https://localhost:8080/"
        },
        "id": "SfhMZG5dJof9",
        "outputId": "7508da67-5335-4ca9-c06d-696d7dcd74ac"
      },
      "execution_count": null,
      "outputs": [
        {
          "output_type": "stream",
          "name": "stdout",
          "text": [
            "Cross Validation Scores are [0.96916752 0.97738952 0.98045267 0.97530864 0.9691358  0.97427984\n",
            " 0.97633745 0.97736626 0.97736626 0.97427984]\n",
            "Average Cross Validation score :0.9751083789053412\n"
          ]
        }
      ]
    },
    {
      "cell_type": "code",
      "source": [
        "pltacc3=np.asarray(score3)\n",
        "rangevalue=np.array([1,2,3,4,5,6,7,8,9,10])\n",
        "plt.figure(figsize=(8, 4))\n",
        "plt.plot(rangevalue, pltacc3, color='green', linestyle='dashed', marker='o',\n",
        "         markerfacecolor='blue', markersize=10)\n",
        "plt.title('KNN Accuracy for 10 Folds')\n",
        "plt.xlabel('K-Folds')\n",
        "plt.ylabel('Accuracy Rate')"
      ],
      "metadata": {
        "colab": {
          "base_uri": "https://localhost:8080/",
          "height": 312
        },
        "id": "trraaz13JvY7",
        "outputId": "1cdd8d65-d460-42e4-85eb-787372c7b14e"
      },
      "execution_count": null,
      "outputs": [
        {
          "output_type": "execute_result",
          "data": {
            "text/plain": [
              "Text(0, 0.5, 'Accuracy Rate')"
            ]
          },
          "metadata": {},
          "execution_count": 171
        },
        {
          "output_type": "display_data",
          "data": {
            "text/plain": [
              "<Figure size 576x288 with 1 Axes>"
            ],
            "image/png": "[encoded data removed]"
          },
          "metadata": {}
        }
      ]
    },
    {
      "cell_type": "markdown",
      "source": [
        "**Naive Bayes**"
      ],
      "metadata": {
        "id": "LjprPYzaJwO3"
      }
    },
    {
      "cell_type": "code",
      "source": [
        "from sklearn.naive_bayes import BernoulliNB\n",
        "classifier = BernoulliNB()\n",
        "\n",
        "stratifiedkf=StratifiedKFold(n_splits=10)\n",
        "score4=cross_val_score(classifier,X_res,y_res,cv=stratifiedkf)\n",
        "\n",
        "print(\"Cross Validation Scores are {}\".format(score4))\n",
        "print(\"Average Cross Validation score :{}\".format(score4.mean()))\n",
        "accuracy4=score4.mean()\n",
        "#print(accuracy4)"
      ],
      "metadata": {
        "colab": {
          "base_uri": "https://localhost:8080/"
        },
        "id": "HsqdG6_nJ7OQ",
        "outputId": "2f8f70c4-648c-4b30-dfaf-915c3cf7e3c5"
      },
      "execution_count": null,
      "outputs": [
        {
          "output_type": "stream",
          "name": "stdout",
          "text": [
            "Cross Validation Scores are [0.76156218 0.76772867 0.73971193 0.75411523 0.71193416 0.73868313\n",
            " 0.74794239 0.7654321  0.77572016 0.75617284]\n",
            "Average Cross Validation score :0.7519002787188238\n"
          ]
        }
      ]
    },
    {
      "cell_type": "code",
      "source": [
        "pltacc4=np.asarray(score4)\n",
        "rangevalue=np.array([1,2,3,4,5,6,7,8,9,10])\n",
        "plt.figure(figsize=(8, 4))\n",
        "plt.plot(rangevalue, pltacc4, color='green', linestyle='dashed', marker='o',\n",
        "         markerfacecolor='blue', markersize=10)\n",
        "plt.title('Naive Bayes Accuracy for 10 Folds')\n",
        "plt.xlabel('K-Folds')\n",
        "plt.ylabel('Accuracy Rate')"
      ],
      "metadata": {
        "colab": {
          "base_uri": "https://localhost:8080/",
          "height": 312
        },
        "id": "OBn8U_BVJ758",
        "outputId": "eed27781-cfc9-4ef8-b43e-ab6d40b666d9"
      },
      "execution_count": null,
      "outputs": [
        {
          "output_type": "execute_result",
          "data": {
            "text/plain": [
              "Text(0, 0.5, 'Accuracy Rate')"
            ]
          },
          "metadata": {},
          "execution_count": 174
        },
        {
          "output_type": "display_data",
          "data": {
            "text/plain": [
              "<Figure size 576x288 with 1 Axes>"
            ],
            "image/png": "[encoded data removed]"
          },
          "metadata": {}
        }
      ]
    },
    {
      "cell_type": "markdown",
      "metadata": {
        "id": "u-BmklNRtRar"
      },
      "source": [
        "**Decision Tree**"
      ]
    },
    {
      "cell_type": "code",
      "execution_count": null,
      "metadata": {
        "colab": {
          "base_uri": "https://localhost:8080/"
        },
        "id": "9ZljDouatEV4",
        "outputId": "5465e262-56dc-46c5-d990-7a4dd14fce34"
      },
      "outputs": [
        {
          "output_type": "stream",
          "name": "stdout",
          "text": [
            "Cross Validation Scores are [0.96711202 0.98252826 0.98045267 0.97839506 0.97427984 0.96604938\n",
            " 0.968107   0.97119342 0.97119342 0.97633745]\n",
            "Average Cross Validation score :0.9735648518222458\n"
          ]
        }
      ],
      "source": [
        "from sklearn.tree import DecisionTreeClassifier\n",
        "classifier = DecisionTreeClassifier(criterion = 'entropy', random_state = 0, max_depth=25)\n",
        "\n",
        "stratifiedkf=StratifiedKFold(n_splits=10)\n",
        "score5=cross_val_score(classifier,X_res,y_res,cv=stratifiedkf)\n",
        "\n",
        "print(\"Cross Validation Scores are {}\".format(score5))\n",
        "print(\"Average Cross Validation score :{}\".format(score5.mean()))\n",
        "accuracy5=score5.mean()\n",
        "#print(accuracy5)"
      ]
    },
    {
      "cell_type": "code",
      "source": [
        "pltacc5=np.asarray(score5)\n",
        "rangevalue=np.array([1,2,3,4,5,6,7,8,9,10])\n",
        "plt.figure(figsize=(8, 4))\n",
        "plt.plot(rangevalue, pltacc5, color='green', linestyle='dashed', marker='o',\n",
        "         markerfacecolor='blue', markersize=10)\n",
        "plt.title('Decision Tree Accuracy for 10 Folds')\n",
        "plt.xlabel('K-Folds')\n",
        "plt.ylabel('Accuracy Rate')"
      ],
      "metadata": {
        "colab": {
          "base_uri": "https://localhost:8080/",
          "height": 312
        },
        "id": "r4phcUvjSjq8",
        "outputId": "77f85f1a-f65d-424d-f45e-da4bba26d035"
      },
      "execution_count": null,
      "outputs": [
        {
          "output_type": "execute_result",
          "data": {
            "text/plain": [
              "Text(0, 0.5, 'Accuracy Rate')"
            ]
          },
          "metadata": {},
          "execution_count": 176
        },
        {
          "output_type": "display_data",
          "data": {
            "text/plain": [
              "<Figure size 576x288 with 1 Axes>"
            ],
            "image/png": "[encoded data removed]"
          },
          "metadata": {}
        }
      ]
    },
    {
      "cell_type": "markdown",
      "source": [
        "**Random Forest**"
      ],
      "metadata": {
        "id": "DKUXNsfZARAo"
      }
    },
    {
      "cell_type": "code",
      "source": [
        "from sklearn.ensemble import RandomForestClassifier\n",
        "classifier = RandomForestClassifier(n_estimators=100)\n",
        "\n",
        "stratifiedkf=StratifiedKFold(n_splits=10)\n",
        "score6=cross_val_score(classifier,X_res,y_res,cv=stratifiedkf)\n",
        "\n",
        "print(\"Cross Validation Scores are {}\".format(score6))\n",
        "print(\"Average Cross Validation score :{}\".format(score6.mean()))\n",
        "accuracy6=score6.mean()\n",
        "#print(accuracy6)"
      ],
      "metadata": {
        "colab": {
          "base_uri": "https://localhost:8080/"
        },
        "id": "Hyrew5mBAgrV",
        "outputId": "84b49700-98a2-4c65-a317-4cc2deed28fa"
      },
      "execution_count": null,
      "outputs": [
        {
          "output_type": "stream",
          "name": "stdout",
          "text": [
            "Cross Validation Scores are [0.98150051 0.98972251 0.98971193 0.98868313 0.98353909 0.98868313\n",
            " 0.99588477 0.99588477 0.99279835 0.9845679 ]\n",
            "Average Cross Validation score :0.9890976108002487\n"
          ]
        }
      ]
    },
    {
      "cell_type": "code",
      "source": [
        "pltacc6=np.asarray(score6)\n",
        "rangevalue=np.array([1,2,3,4,5,6,7,8,9,10])\n",
        "plt.figure(figsize=(8, 4))\n",
        "plt.plot(rangevalue, pltacc6, color='green', linestyle='dashed', marker='o',\n",
        "         markerfacecolor='blue', markersize=10)\n",
        "plt.title('Random Forest Accuracy for 10 Folds')\n",
        "plt.xlabel('K-Folds')\n",
        "plt.ylabel('Accuracy Rate')"
      ],
      "metadata": {
        "colab": {
          "base_uri": "https://localhost:8080/",
          "height": 312
        },
        "id": "aBWDfCsuCbep",
        "outputId": "21c7f2ae-dbe1-492f-dddd-3ef022fcb968"
      },
      "execution_count": null,
      "outputs": [
        {
          "output_type": "execute_result",
          "data": {
            "text/plain": [
              "Text(0, 0.5, 'Accuracy Rate')"
            ]
          },
          "metadata": {},
          "execution_count": 178
        },
        {
          "output_type": "display_data",
          "data": {
            "text/plain": [
              "<Figure size 576x288 with 1 Axes>"
            ],
            "image/png": "[encoded data removed]"
          },
          "metadata": {}
        }
      ]
    },
    {
      "cell_type": "markdown",
      "source": [
        "**Ensemble Method (3 Folds)**"
      ],
      "metadata": {
        "id": "pdSfGMUd-D3g"
      }
    },
    {
      "cell_type": "code",
      "source": [
        "# Training classifiers\n",
        "from sklearn.tree import DecisionTreeClassifier\n",
        "from sklearn.neighbors import KNeighborsClassifier\n",
        "clf1 = DecisionTreeClassifier(max_depth=25)\n",
        "clf2 = KNeighborsClassifier(n_neighbors=1)\n",
        "eclf = VotingClassifier(estimators=[('dt', clf1), ('knn', clf2)], voting='hard')\n",
        "\n",
        "stratifiedkf=StratifiedKFold(n_splits=3)\n",
        "score73=cross_val_score(eclf,X_res,y_res,cv=stratifiedkf)\n",
        "\n",
        "print(\"Cross Validation Scores are {}\".format(score73))\n",
        "print(\"Average Cross Validation score :{}\".format(score73.mean()))\n",
        "accuracy73=score73.mean()\n",
        "#print(accuracy73)"
      ],
      "metadata": {
        "colab": {
          "base_uri": "https://localhost:8080/"
        },
        "id": "ScUUGy3i-IwN",
        "outputId": "58608200-af83-498a-9340-7b3de6a73a58"
      },
      "execution_count": null,
      "outputs": [
        {
          "output_type": "stream",
          "name": "stdout",
          "text": [
            "Cross Validation Scores are [0.98364702 0.98765813 0.99228395]\n",
            "Average Cross Validation score :0.9878630344493075\n"
          ]
        }
      ]
    },
    {
      "cell_type": "markdown",
      "source": [
        "**Ensemble Method (5 Folds)**"
      ],
      "metadata": {
        "id": "71ewkqTRq9H3"
      }
    },
    {
      "cell_type": "code",
      "source": [
        "# Training classifiers\n",
        "from sklearn.tree import DecisionTreeClassifier\n",
        "from sklearn.neighbors import KNeighborsClassifier\n",
        "clf1 = DecisionTreeClassifier(max_depth=25)\n",
        "clf2 = KNeighborsClassifier(n_neighbors=1)\n",
        "eclf = VotingClassifier(estimators=[('dt', clf1), ('knn', clf2)], voting='hard')\n",
        "\n",
        "stratifiedkf=StratifiedKFold(n_splits=5)\n",
        "score75=cross_val_score(eclf,X_res,y_res,cv=stratifiedkf)\n",
        "\n",
        "print(\"Cross Validation Scores are {}\".format(score75))\n",
        "print(\"Average Cross Validation score :{}\".format(score75.mean()))\n",
        "accuracy75=score75.mean()\n",
        "#print(accuracy75)"
      ],
      "metadata": {
        "colab": {
          "base_uri": "https://localhost:8080/"
        },
        "id": "_DgyMyVJncK5",
        "outputId": "326eeb0c-8c48-48f8-9e73-983c07ba5498"
      },
      "execution_count": null,
      "outputs": [
        {
          "output_type": "stream",
          "name": "stdout",
          "text": [
            "Cross Validation Scores are [0.98303342 0.9933162  0.98971193 0.99228395 0.99228395]\n",
            "Average Cross Validation score :0.9901258899573667\n"
          ]
        }
      ]
    },
    {
      "cell_type": "markdown",
      "source": [
        "**Ensemble Method (7 Folds)**"
      ],
      "metadata": {
        "id": "7TA-ujS6-raW"
      }
    },
    {
      "cell_type": "code",
      "source": [
        "# Training classifiers\n",
        "from sklearn.tree import DecisionTreeClassifier\n",
        "from sklearn.neighbors import KNeighborsClassifier\n",
        "clf1 = DecisionTreeClassifier(max_depth=25)\n",
        "clf2 = KNeighborsClassifier(n_neighbors=1)\n",
        "eclf = VotingClassifier(estimators=[('dt', clf1), ('knn', clf2)], voting='hard')\n",
        "\n",
        "stratifiedkf=StratifiedKFold(n_splits=7)\n",
        "score77=cross_val_score(eclf,X_res,y_res,cv=stratifiedkf)\n",
        "\n",
        "print(\"Cross Validation Scores are {}\".format(score77))\n",
        "print(\"Average Cross Validation score :{}\".format(score77.mean()))\n",
        "accuracy77=score77.mean()\n",
        "#print(accuracy77)"
      ],
      "metadata": {
        "colab": {
          "base_uri": "https://localhost:8080/"
        },
        "id": "reLtNV26-uwa",
        "outputId": "661c15ba-8bcf-41d2-802a-e5d42809b7f6"
      },
      "execution_count": null,
      "outputs": [
        {
          "output_type": "stream",
          "name": "stdout",
          "text": [
            "Cross Validation Scores are [0.98344132 0.99712023 0.99424046 0.98920086 0.98920086 0.99568035\n",
            " 0.99351585]\n",
            "Average Cross Validation score :0.9917714199167073\n"
          ]
        }
      ]
    },
    {
      "cell_type": "markdown",
      "source": [
        "**Ensemble Method (10 Folds)**"
      ],
      "metadata": {
        "id": "DxfJY1UVdm5b"
      }
    },
    {
      "cell_type": "code",
      "source": [
        "# Training classifiers\n",
        "from sklearn.tree import DecisionTreeClassifier\n",
        "from sklearn.neighbors import KNeighborsClassifier\n",
        "clf1 = DecisionTreeClassifier(max_depth=25)\n",
        "clf2 = KNeighborsClassifier(n_neighbors=1)\n",
        "eclf = VotingClassifier(estimators=[('dt', clf1), ('knn', clf2)], voting='hard')\n",
        "\n",
        "stratifiedkf=StratifiedKFold(n_splits=10)\n",
        "score710=cross_val_score(eclf,X_res,y_res,cv=stratifiedkf)\n",
        "\n",
        "print(\"Cross Validation Scores are {}\".format(score710))\n",
        "print(\"Average Cross Validation score :{}\".format(score710.mean()))\n",
        "accuracy710=score710.mean()\n",
        "#print(accuracy710)"
      ],
      "metadata": {
        "colab": {
          "base_uri": "https://localhost:8080/"
        },
        "id": "LNeQ0g1faOXj",
        "outputId": "13556d5e-a364-407a-8fec-8a8560eae841"
      },
      "execution_count": null,
      "outputs": [
        {
          "output_type": "stream",
          "name": "stdout",
          "text": [
            "Cross Validation Scores are [0.98458376 0.99177801 0.99588477 0.99485597 0.98971193 0.99485597\n",
            " 0.99279835 0.99279835 0.99485597 0.99074074]\n",
            "Average Cross Validation score :0.9922863825341842\n"
          ]
        }
      ]
    },
    {
      "cell_type": "code",
      "source": [
        "pltacc710=np.asarray(score710)\n",
        "rangevalue=np.array([1,2,3,4,5,6,7,8,9,10])\n",
        "plt.figure(figsize=(8, 4))\n",
        "plt.plot(rangevalue, pltacc710, color='green', linestyle='dashed', marker='o',\n",
        "         markerfacecolor='blue', markersize=10)\n",
        "plt.title('Ensemble Accuracy for 10 Folds')\n",
        "plt.xlabel('K-Folds')\n",
        "plt.ylabel('Accuracy Rate')"
      ],
      "metadata": {
        "colab": {
          "base_uri": "https://localhost:8080/",
          "height": 312
        },
        "id": "7Z1dSgtXeucK",
        "outputId": "6b02806a-091e-41b5-b41c-f46029351669"
      },
      "execution_count": null,
      "outputs": [
        {
          "output_type": "execute_result",
          "data": {
            "text/plain": [
              "Text(0, 0.5, 'Accuracy Rate')"
            ]
          },
          "metadata": {},
          "execution_count": 183
        },
        {
          "output_type": "display_data",
          "data": {
            "text/plain": [
              "<Figure size 576x288 with 1 Axes>"
            ],
            "image/png": "[encoded data removed]"
          },
          "metadata": {}
        }
      ]
    },
    {
      "cell_type": "markdown",
      "metadata": {
        "id": "KxJ8zQMVuLrc"
      },
      "source": [
        "**Create visualization for all model with their Accuracy**"
      ]
    },
    {
      "cell_type": "code",
      "execution_count": null,
      "metadata": {
        "colab": {
          "base_uri": "https://localhost:8080/",
          "height": 433
        },
        "id": "XzWxiZKguNCt",
        "outputId": "b5dc5191-eeb9-4d28-b903-657ffd21a508"
      },
      "outputs": [
        {
          "output_type": "display_data",
          "data": {
            "text/plain": [
              "<Figure size 576x432 with 1 Axes>"
            ],
            "image/png": "[encoded data removed]"
          },
          "metadata": {}
        }
      ],
      "source": [
        "mylist=[]\n",
        "mylist2=[]\n",
        "mylist.append(accuracy1)\n",
        "mylist2.append(\"Logistic Regression\")\n",
        "mylist.append(accuracy2)\n",
        "mylist2.append(\"SVM\")\n",
        "mylist.append(accuracy3)\n",
        "mylist2.append(\"KNN\")\n",
        "mylist.append(accuracy4)\n",
        "mylist2.append(\"Naive Bayes\")\n",
        "mylist.append(accuracy5)\n",
        "mylist2.append(\"DTR\")\n",
        "#mylist.append(accuracy6)\n",
        "#mylist2.append(\"Random Forest\")\n",
        "mylist.append(accuracy710)\n",
        "mylist2.append(\"Ensemble\")\n",
        "plt.rcParams['figure.figsize']=8,6\n",
        "sns.set_style(\"darkgrid\")\n",
        "ax = sns.barplot(x=mylist2, y=mylist, palette = \"rocket\", saturation =1.5)\n",
        "plt.xlabel(\"Classification Models\", fontsize = 20)\n",
        "plt.ylabel(\"Accuracy\", fontsize = 20)\n",
        "plt.title(\"Accuracy of Classification Models\", fontsize = 20)\n",
        "plt.xticks(fontsize = 11, horizontalalignment = 'center', rotation = 8)\n",
        "plt.yticks(fontsize = 13)\n",
        "for p in ax.patches:\n",
        "    width, height = p.get_width(), p.get_height()\n",
        "    x, y = p.get_xy() \n",
        "    ax.annotate(f'{height:.2%}', (x + width/2, y + height*1.02), ha='center', fontsize = 'x-large')\n",
        "plt.show()"
      ]
    }
  ],
  "metadata": {
    "colab": {
      "collapsed_sections": [],
      "name": "SSDA-P3(OverSampling-CV).ipynb",
      "provenance": [],
      "include_colab_link": true
    },
    "kernelspec": {
      "display_name": "Python 3",
      "name": "python3"
    },
    "language_info": {
      "name": "python"
    }
  },
  "nbformat": 4,
  "nbformat_minor": 0
}